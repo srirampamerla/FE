{
 "cells": [
  {
   "cell_type": "markdown",
   "id": "3ca94d42",
   "metadata": {},
   "source": [
    "# Random Sample Imputation\n",
    "\n",
    "Aim: Random sample imputation consists of taking random observation from the dataset and we use this observation to replace the nan values\n",
    "\n",
    "When should it be used? It assumes that the data are missing completely at random(MCAR)"
   ]
  },
  {
   "cell_type": "code",
   "execution_count": 2,
   "id": "b5e51ec2",
   "metadata": {},
   "outputs": [
    {
     "data": {
      "text/html": [
       "<div>\n",
       "<style scoped>\n",
       "    .dataframe tbody tr th:only-of-type {\n",
       "        vertical-align: middle;\n",
       "    }\n",
       "\n",
       "    .dataframe tbody tr th {\n",
       "        vertical-align: top;\n",
       "    }\n",
       "\n",
       "    .dataframe thead th {\n",
       "        text-align: right;\n",
       "    }\n",
       "</style>\n",
       "<table border=\"1\" class=\"dataframe\">\n",
       "  <thead>\n",
       "    <tr style=\"text-align: right;\">\n",
       "      <th></th>\n",
       "      <th>Survived</th>\n",
       "      <th>Age</th>\n",
       "      <th>Fare</th>\n",
       "    </tr>\n",
       "  </thead>\n",
       "  <tbody>\n",
       "    <tr>\n",
       "      <th>0</th>\n",
       "      <td>0</td>\n",
       "      <td>22.0</td>\n",
       "      <td>7.2500</td>\n",
       "    </tr>\n",
       "    <tr>\n",
       "      <th>1</th>\n",
       "      <td>1</td>\n",
       "      <td>38.0</td>\n",
       "      <td>71.2833</td>\n",
       "    </tr>\n",
       "    <tr>\n",
       "      <th>2</th>\n",
       "      <td>1</td>\n",
       "      <td>26.0</td>\n",
       "      <td>7.9250</td>\n",
       "    </tr>\n",
       "    <tr>\n",
       "      <th>3</th>\n",
       "      <td>1</td>\n",
       "      <td>35.0</td>\n",
       "      <td>53.1000</td>\n",
       "    </tr>\n",
       "    <tr>\n",
       "      <th>4</th>\n",
       "      <td>0</td>\n",
       "      <td>35.0</td>\n",
       "      <td>8.0500</td>\n",
       "    </tr>\n",
       "  </tbody>\n",
       "</table>\n",
       "</div>"
      ],
      "text/plain": [
       "   Survived   Age     Fare\n",
       "0         0  22.0   7.2500\n",
       "1         1  38.0  71.2833\n",
       "2         1  26.0   7.9250\n",
       "3         1  35.0  53.1000\n",
       "4         0  35.0   8.0500"
      ]
     },
     "execution_count": 2,
     "metadata": {},
     "output_type": "execute_result"
    }
   ],
   "source": [
    "import pandas as pd\n",
    "df=pd.read_csv('titanic_train.csv', usecols=['Age','Fare','Survived'])\n",
    "df.head()"
   ]
  },
  {
   "cell_type": "code",
   "execution_count": 2,
   "id": "95497188",
   "metadata": {},
   "outputs": [
    {
     "data": {
      "text/plain": [
       "Survived      0\n",
       "Age         177\n",
       "Fare          0\n",
       "dtype: int64"
      ]
     },
     "execution_count": 2,
     "metadata": {},
     "output_type": "execute_result"
    }
   ],
   "source": [
    "df.isnull().sum()"
   ]
  },
  {
   "cell_type": "code",
   "execution_count": 8,
   "id": "069ad8af",
   "metadata": {},
   "outputs": [
    {
     "data": {
      "text/plain": [
       "Survived     0.00000\n",
       "Age         19.86532\n",
       "Fare         0.00000\n",
       "dtype: float64"
      ]
     },
     "execution_count": 8,
     "metadata": {},
     "output_type": "execute_result"
    }
   ],
   "source": [
    "df.isnull().mean()*100"
   ]
  },
  {
   "cell_type": "code",
   "execution_count": 11,
   "id": "96bffd74",
   "metadata": {},
   "outputs": [
    {
     "data": {
      "text/html": [
       "<div>\n",
       "<style scoped>\n",
       "    .dataframe tbody tr th:only-of-type {\n",
       "        vertical-align: middle;\n",
       "    }\n",
       "\n",
       "    .dataframe tbody tr th {\n",
       "        vertical-align: top;\n",
       "    }\n",
       "\n",
       "    .dataframe thead th {\n",
       "        text-align: right;\n",
       "    }\n",
       "</style>\n",
       "<table border=\"1\" class=\"dataframe\">\n",
       "  <thead>\n",
       "    <tr style=\"text-align: right;\">\n",
       "      <th></th>\n",
       "      <th>Survived</th>\n",
       "      <th>Age</th>\n",
       "      <th>Fare</th>\n",
       "    </tr>\n",
       "  </thead>\n",
       "  <tbody>\n",
       "    <tr>\n",
       "      <th>0</th>\n",
       "      <td>0</td>\n",
       "      <td>22.0</td>\n",
       "      <td>7.2500</td>\n",
       "    </tr>\n",
       "    <tr>\n",
       "      <th>1</th>\n",
       "      <td>1</td>\n",
       "      <td>38.0</td>\n",
       "      <td>71.2833</td>\n",
       "    </tr>\n",
       "    <tr>\n",
       "      <th>2</th>\n",
       "      <td>1</td>\n",
       "      <td>26.0</td>\n",
       "      <td>7.9250</td>\n",
       "    </tr>\n",
       "    <tr>\n",
       "      <th>3</th>\n",
       "      <td>1</td>\n",
       "      <td>35.0</td>\n",
       "      <td>53.1000</td>\n",
       "    </tr>\n",
       "    <tr>\n",
       "      <th>4</th>\n",
       "      <td>0</td>\n",
       "      <td>35.0</td>\n",
       "      <td>8.0500</td>\n",
       "    </tr>\n",
       "    <tr>\n",
       "      <th>...</th>\n",
       "      <td>...</td>\n",
       "      <td>...</td>\n",
       "      <td>...</td>\n",
       "    </tr>\n",
       "    <tr>\n",
       "      <th>886</th>\n",
       "      <td>0</td>\n",
       "      <td>27.0</td>\n",
       "      <td>13.0000</td>\n",
       "    </tr>\n",
       "    <tr>\n",
       "      <th>887</th>\n",
       "      <td>1</td>\n",
       "      <td>19.0</td>\n",
       "      <td>30.0000</td>\n",
       "    </tr>\n",
       "    <tr>\n",
       "      <th>888</th>\n",
       "      <td>0</td>\n",
       "      <td>NaN</td>\n",
       "      <td>23.4500</td>\n",
       "    </tr>\n",
       "    <tr>\n",
       "      <th>889</th>\n",
       "      <td>1</td>\n",
       "      <td>26.0</td>\n",
       "      <td>30.0000</td>\n",
       "    </tr>\n",
       "    <tr>\n",
       "      <th>890</th>\n",
       "      <td>0</td>\n",
       "      <td>32.0</td>\n",
       "      <td>7.7500</td>\n",
       "    </tr>\n",
       "  </tbody>\n",
       "</table>\n",
       "<p>891 rows × 3 columns</p>\n",
       "</div>"
      ],
      "text/plain": [
       "     Survived   Age     Fare\n",
       "0           0  22.0   7.2500\n",
       "1           1  38.0  71.2833\n",
       "2           1  26.0   7.9250\n",
       "3           1  35.0  53.1000\n",
       "4           0  35.0   8.0500\n",
       "..        ...   ...      ...\n",
       "886         0  27.0  13.0000\n",
       "887         1  19.0  30.0000\n",
       "888         0   NaN  23.4500\n",
       "889         1  26.0  30.0000\n",
       "890         0  32.0   7.7500\n",
       "\n",
       "[891 rows x 3 columns]"
      ]
     },
     "execution_count": 11,
     "metadata": {},
     "output_type": "execute_result"
    }
   ],
   "source": [
    "df"
   ]
  },
  {
   "cell_type": "code",
   "execution_count": 9,
   "id": "e8b138d9",
   "metadata": {},
   "outputs": [
    {
     "data": {
      "text/html": [
       "<div>\n",
       "<style scoped>\n",
       "    .dataframe tbody tr th:only-of-type {\n",
       "        vertical-align: middle;\n",
       "    }\n",
       "\n",
       "    .dataframe tbody tr th {\n",
       "        vertical-align: top;\n",
       "    }\n",
       "\n",
       "    .dataframe thead th {\n",
       "        text-align: right;\n",
       "    }\n",
       "</style>\n",
       "<table border=\"1\" class=\"dataframe\">\n",
       "  <thead>\n",
       "    <tr style=\"text-align: right;\">\n",
       "      <th></th>\n",
       "      <th>Survived</th>\n",
       "      <th>Age</th>\n",
       "      <th>Fare</th>\n",
       "    </tr>\n",
       "  </thead>\n",
       "  <tbody>\n",
       "    <tr>\n",
       "      <th>0</th>\n",
       "      <td>False</td>\n",
       "      <td>False</td>\n",
       "      <td>False</td>\n",
       "    </tr>\n",
       "    <tr>\n",
       "      <th>1</th>\n",
       "      <td>False</td>\n",
       "      <td>False</td>\n",
       "      <td>False</td>\n",
       "    </tr>\n",
       "    <tr>\n",
       "      <th>2</th>\n",
       "      <td>False</td>\n",
       "      <td>False</td>\n",
       "      <td>False</td>\n",
       "    </tr>\n",
       "    <tr>\n",
       "      <th>3</th>\n",
       "      <td>False</td>\n",
       "      <td>False</td>\n",
       "      <td>False</td>\n",
       "    </tr>\n",
       "    <tr>\n",
       "      <th>4</th>\n",
       "      <td>False</td>\n",
       "      <td>False</td>\n",
       "      <td>False</td>\n",
       "    </tr>\n",
       "    <tr>\n",
       "      <th>...</th>\n",
       "      <td>...</td>\n",
       "      <td>...</td>\n",
       "      <td>...</td>\n",
       "    </tr>\n",
       "    <tr>\n",
       "      <th>886</th>\n",
       "      <td>False</td>\n",
       "      <td>False</td>\n",
       "      <td>False</td>\n",
       "    </tr>\n",
       "    <tr>\n",
       "      <th>887</th>\n",
       "      <td>False</td>\n",
       "      <td>False</td>\n",
       "      <td>False</td>\n",
       "    </tr>\n",
       "    <tr>\n",
       "      <th>888</th>\n",
       "      <td>False</td>\n",
       "      <td>True</td>\n",
       "      <td>False</td>\n",
       "    </tr>\n",
       "    <tr>\n",
       "      <th>889</th>\n",
       "      <td>False</td>\n",
       "      <td>False</td>\n",
       "      <td>False</td>\n",
       "    </tr>\n",
       "    <tr>\n",
       "      <th>890</th>\n",
       "      <td>False</td>\n",
       "      <td>False</td>\n",
       "      <td>False</td>\n",
       "    </tr>\n",
       "  </tbody>\n",
       "</table>\n",
       "<p>891 rows × 3 columns</p>\n",
       "</div>"
      ],
      "text/plain": [
       "     Survived    Age   Fare\n",
       "0       False  False  False\n",
       "1       False  False  False\n",
       "2       False  False  False\n",
       "3       False  False  False\n",
       "4       False  False  False\n",
       "..        ...    ...    ...\n",
       "886     False  False  False\n",
       "887     False  False  False\n",
       "888     False   True  False\n",
       "889     False  False  False\n",
       "890     False  False  False\n",
       "\n",
       "[891 rows x 3 columns]"
      ]
     },
     "execution_count": 9,
     "metadata": {},
     "output_type": "execute_result"
    }
   ],
   "source": [
    "df.isna()"
   ]
  },
  {
   "cell_type": "code",
   "execution_count": 12,
   "id": "3384aa24",
   "metadata": {},
   "outputs": [
    {
     "data": {
      "text/plain": [
       "0      False\n",
       "1      False\n",
       "2      False\n",
       "3      False\n",
       "4      False\n",
       "       ...  \n",
       "886    False\n",
       "887    False\n",
       "888     True\n",
       "889    False\n",
       "890    False\n",
       "Name: Age, Length: 891, dtype: bool"
      ]
     },
     "execution_count": 12,
     "metadata": {},
     "output_type": "execute_result"
    }
   ],
   "source": [
    "df['Age'].isna() # If NUll Show True otherwise it is false"
   ]
  },
  {
   "cell_type": "code",
   "execution_count": 14,
   "id": "0e34e5f6",
   "metadata": {},
   "outputs": [
    {
     "data": {
      "text/html": [
       "<div>\n",
       "<style scoped>\n",
       "    .dataframe tbody tr th:only-of-type {\n",
       "        vertical-align: middle;\n",
       "    }\n",
       "\n",
       "    .dataframe tbody tr th {\n",
       "        vertical-align: top;\n",
       "    }\n",
       "\n",
       "    .dataframe thead th {\n",
       "        text-align: right;\n",
       "    }\n",
       "</style>\n",
       "<table border=\"1\" class=\"dataframe\">\n",
       "  <thead>\n",
       "    <tr style=\"text-align: right;\">\n",
       "      <th></th>\n",
       "      <th>Survived</th>\n",
       "      <th>Age</th>\n",
       "      <th>Fare</th>\n",
       "    </tr>\n",
       "  </thead>\n",
       "  <tbody>\n",
       "    <tr>\n",
       "      <th>10</th>\n",
       "      <td>1</td>\n",
       "      <td>4.0</td>\n",
       "      <td>16.7</td>\n",
       "    </tr>\n",
       "  </tbody>\n",
       "</table>\n",
       "</div>"
      ],
      "text/plain": [
       "    Survived  Age  Fare\n",
       "10         1  4.0  16.7"
      ]
     },
     "execution_count": 14,
     "metadata": {},
     "output_type": "execute_result"
    }
   ],
   "source": [
    "df.dropna().sample() # It will pick one sample to delete"
   ]
  },
  {
   "cell_type": "code",
   "execution_count": 18,
   "id": "823aaf5d",
   "metadata": {},
   "outputs": [
    {
     "data": {
      "text/plain": [
       "0      22.0\n",
       "1      38.0\n",
       "2      26.0\n",
       "3      35.0\n",
       "4      35.0\n",
       "       ... \n",
       "885    39.0\n",
       "886    27.0\n",
       "887    19.0\n",
       "889    26.0\n",
       "890    32.0\n",
       "Name: Age, Length: 714, dtype: float64"
      ]
     },
     "execution_count": 18,
     "metadata": {},
     "output_type": "execute_result"
    }
   ],
   "source": [
    "df['Age'].dropna() # Drop all the NAN values"
   ]
  },
  {
   "cell_type": "code",
   "execution_count": 20,
   "id": "3d0dd9c1",
   "metadata": {},
   "outputs": [
    {
     "data": {
      "text/plain": [
       "785    25.0\n",
       "Name: Age, dtype: float64"
      ]
     },
     "execution_count": 20,
     "metadata": {},
     "output_type": "execute_result"
    }
   ],
   "source": [
    "df['Age'].dropna().sample() # Take one random sample "
   ]
  },
  {
   "cell_type": "code",
   "execution_count": 22,
   "id": "7ab122d6",
   "metadata": {},
   "outputs": [
    {
     "data": {
      "text/plain": [
       "177"
      ]
     },
     "execution_count": 22,
     "metadata": {},
     "output_type": "execute_result"
    }
   ],
   "source": [
    "df['Age'].isnull().sum()"
   ]
  },
  {
   "cell_type": "code",
   "execution_count": 25,
   "id": "ff3c24ce",
   "metadata": {},
   "outputs": [
    {
     "data": {
      "text/plain": [
       "551    27.0\n",
       "672    70.0\n",
       "131    20.0\n",
       "860    41.0\n",
       "296    23.5\n",
       "       ... \n",
       "92     46.0\n",
       "225    22.0\n",
       "682    20.0\n",
       "62     45.0\n",
       "213    30.0\n",
       "Name: Age, Length: 177, dtype: float64"
      ]
     },
     "execution_count": 25,
     "metadata": {},
     "output_type": "execute_result"
    }
   ],
   "source": [
    "df['Age'].dropna().sample(177) # Gives 177 sampples"
   ]
  },
  {
   "cell_type": "code",
   "execution_count": 29,
   "id": "afaf3954",
   "metadata": {},
   "outputs": [
    {
     "data": {
      "text/plain": [
       "129    45.0\n",
       "404    20.0\n",
       "430    28.0\n",
       "285    33.0\n",
       "348     3.0\n",
       "       ... \n",
       "505    18.0\n",
       "700    18.0\n",
       "885    39.0\n",
       "880    25.0\n",
       "184     4.0\n",
       "Name: Age, Length: 177, dtype: float64"
      ]
     },
     "execution_count": 29,
     "metadata": {},
     "output_type": "execute_result"
    }
   ],
   "source": [
    "df['Age'].dropna().sample(df['Age'].isnull().sum())"
   ]
  },
  {
   "cell_type": "code",
   "execution_count": 30,
   "id": "532777cf",
   "metadata": {},
   "outputs": [
    {
     "data": {
      "text/plain": [
       "423    28.00\n",
       "177    50.00\n",
       "305     0.92\n",
       "292    36.00\n",
       "889    26.00\n",
       "       ...  \n",
       "539    22.00\n",
       "267    25.00\n",
       "352    15.00\n",
       "99     34.00\n",
       "689    15.00\n",
       "Name: Age, Length: 177, dtype: float64"
      ]
     },
     "execution_count": 30,
     "metadata": {},
     "output_type": "execute_result"
    }
   ],
   "source": [
    "df['Age'].dropna().sample(df['Age'].isnull().sum(),random_state=0) # gives that many samples. IF Random state is 0 then it will not change every iteration if u did not mention that it will change"
   ]
  },
  {
   "cell_type": "code",
   "execution_count": 31,
   "id": "80a538dc",
   "metadata": {},
   "outputs": [
    {
     "data": {
      "text/plain": [
       "Int64Index([  5,  17,  19,  26,  28,  29,  31,  32,  36,  42,\n",
       "            ...\n",
       "            832, 837, 839, 846, 849, 859, 863, 868, 878, 888],\n",
       "           dtype='int64', length=177)"
      ]
     },
     "execution_count": 31,
     "metadata": {},
     "output_type": "execute_result"
    }
   ],
   "source": [
    "df[df['Age'].isnull()].index"
   ]
  },
  {
   "cell_type": "code",
   "execution_count": 37,
   "id": "9233056b",
   "metadata": {},
   "outputs": [
    {
     "data": {
      "text/plain": [
       "(177, 3)"
      ]
     },
     "execution_count": 37,
     "metadata": {},
     "output_type": "execute_result"
    }
   ],
   "source": [
    "df[df['Age'].isnull()].shape"
   ]
  },
  {
   "cell_type": "code",
   "execution_count": 53,
   "id": "42ed82af",
   "metadata": {},
   "outputs": [
    {
     "data": {
      "text/plain": [
       "423    28.00\n",
       "177    50.00\n",
       "305     0.92\n",
       "292    36.00\n",
       "889    26.00\n",
       "       ...  \n",
       "539    22.00\n",
       "267    25.00\n",
       "352    15.00\n",
       "99     34.00\n",
       "689    15.00\n",
       "Name: Age, Length: 177, dtype: float64"
      ]
     },
     "execution_count": 53,
     "metadata": {},
     "output_type": "execute_result"
    }
   ],
   "source": [
    "random_sample=df['Age'].dropna().sample(df['Age'].isnull().sum(),random_state=0)\n",
    "random_sample"
   ]
  },
  {
   "cell_type": "code",
   "execution_count": 55,
   "id": "0eadaa9c",
   "metadata": {},
   "outputs": [
    {
     "data": {
      "text/plain": [
       "Int64Index([  5,  17,  19,  26,  28,  29,  31,  32,  36,  42,\n",
       "            ...\n",
       "            832, 837, 839, 846, 849, 859, 863, 868, 878, 888],\n",
       "           dtype='int64', length=177)"
      ]
     },
     "execution_count": 55,
     "metadata": {},
     "output_type": "execute_result"
    }
   ],
   "source": [
    "random_sample.index=df[df['Age'].isnull()].index\n",
    "random_sample.index"
   ]
  },
  {
   "cell_type": "code",
   "execution_count": 57,
   "id": "1e3025c7",
   "metadata": {},
   "outputs": [
    {
     "data": {
      "text/plain": [
       "5      28.00\n",
       "17     50.00\n",
       "19      0.92\n",
       "26     36.00\n",
       "28     26.00\n",
       "       ...  \n",
       "859    22.00\n",
       "863    25.00\n",
       "868    15.00\n",
       "878    34.00\n",
       "888    15.00\n",
       "Name: Age, Length: 177, dtype: float64"
      ]
     },
     "execution_count": 57,
     "metadata": {},
     "output_type": "execute_result"
    }
   ],
   "source": [
    " df.loc[df['Age'].isnull(),'Age'+'_random']=random_sample\n",
    "random_sample"
   ]
  },
  {
   "cell_type": "code",
   "execution_count": 38,
   "id": "eb101192",
   "metadata": {},
   "outputs": [],
   "source": [
    "def impute_nan(df,variable,median):\n",
    "    df[variable+\"_Median\"]=df[variable].fillna(median) # Replace Nan values with median value and print entire column that Stored in the variable_median.\n",
    "    df[variable+\"_random\"]=df[variable]\n",
    "    ##It will have the random sample to fill the na\n",
    "    random_sample=df[variable].dropna().sample(df[variable].isnull().sum(),random_state=0)\n",
    "    ##pandas need to have same index in order to merge the dataset\n",
    "    random_sample.index=df[df[variable].isnull()].index\n",
    "    df.loc[df[variable].isnull(),variable+'_random']=random_sample"
   ]
  },
  {
   "cell_type": "code",
   "execution_count": 39,
   "id": "1153f8af",
   "metadata": {},
   "outputs": [],
   "source": [
    "median=df.Age.median()"
   ]
  },
  {
   "cell_type": "code",
   "execution_count": 40,
   "id": "598089ed",
   "metadata": {},
   "outputs": [
    {
     "data": {
      "text/plain": [
       "28.0"
      ]
     },
     "execution_count": 40,
     "metadata": {},
     "output_type": "execute_result"
    }
   ],
   "source": [
    "median\n"
   ]
  },
  {
   "cell_type": "code",
   "execution_count": 41,
   "id": "f1c4eb21",
   "metadata": {},
   "outputs": [],
   "source": [
    "impute_nan(df,\"Age\",median)"
   ]
  },
  {
   "cell_type": "code",
   "execution_count": 42,
   "id": "1b23d751",
   "metadata": {},
   "outputs": [
    {
     "data": {
      "text/html": [
       "<div>\n",
       "<style scoped>\n",
       "    .dataframe tbody tr th:only-of-type {\n",
       "        vertical-align: middle;\n",
       "    }\n",
       "\n",
       "    .dataframe tbody tr th {\n",
       "        vertical-align: top;\n",
       "    }\n",
       "\n",
       "    .dataframe thead th {\n",
       "        text-align: right;\n",
       "    }\n",
       "</style>\n",
       "<table border=\"1\" class=\"dataframe\">\n",
       "  <thead>\n",
       "    <tr style=\"text-align: right;\">\n",
       "      <th></th>\n",
       "      <th>Survived</th>\n",
       "      <th>Age</th>\n",
       "      <th>Fare</th>\n",
       "      <th>Age_Median</th>\n",
       "      <th>Age_random</th>\n",
       "    </tr>\n",
       "  </thead>\n",
       "  <tbody>\n",
       "    <tr>\n",
       "      <th>0</th>\n",
       "      <td>0</td>\n",
       "      <td>22.0</td>\n",
       "      <td>7.2500</td>\n",
       "      <td>22.0</td>\n",
       "      <td>22.0</td>\n",
       "    </tr>\n",
       "    <tr>\n",
       "      <th>1</th>\n",
       "      <td>1</td>\n",
       "      <td>38.0</td>\n",
       "      <td>71.2833</td>\n",
       "      <td>38.0</td>\n",
       "      <td>38.0</td>\n",
       "    </tr>\n",
       "    <tr>\n",
       "      <th>2</th>\n",
       "      <td>1</td>\n",
       "      <td>26.0</td>\n",
       "      <td>7.9250</td>\n",
       "      <td>26.0</td>\n",
       "      <td>26.0</td>\n",
       "    </tr>\n",
       "    <tr>\n",
       "      <th>3</th>\n",
       "      <td>1</td>\n",
       "      <td>35.0</td>\n",
       "      <td>53.1000</td>\n",
       "      <td>35.0</td>\n",
       "      <td>35.0</td>\n",
       "    </tr>\n",
       "    <tr>\n",
       "      <th>4</th>\n",
       "      <td>0</td>\n",
       "      <td>35.0</td>\n",
       "      <td>8.0500</td>\n",
       "      <td>35.0</td>\n",
       "      <td>35.0</td>\n",
       "    </tr>\n",
       "    <tr>\n",
       "      <th>...</th>\n",
       "      <td>...</td>\n",
       "      <td>...</td>\n",
       "      <td>...</td>\n",
       "      <td>...</td>\n",
       "      <td>...</td>\n",
       "    </tr>\n",
       "    <tr>\n",
       "      <th>886</th>\n",
       "      <td>0</td>\n",
       "      <td>27.0</td>\n",
       "      <td>13.0000</td>\n",
       "      <td>27.0</td>\n",
       "      <td>27.0</td>\n",
       "    </tr>\n",
       "    <tr>\n",
       "      <th>887</th>\n",
       "      <td>1</td>\n",
       "      <td>19.0</td>\n",
       "      <td>30.0000</td>\n",
       "      <td>19.0</td>\n",
       "      <td>19.0</td>\n",
       "    </tr>\n",
       "    <tr>\n",
       "      <th>888</th>\n",
       "      <td>0</td>\n",
       "      <td>NaN</td>\n",
       "      <td>23.4500</td>\n",
       "      <td>28.0</td>\n",
       "      <td>15.0</td>\n",
       "    </tr>\n",
       "    <tr>\n",
       "      <th>889</th>\n",
       "      <td>1</td>\n",
       "      <td>26.0</td>\n",
       "      <td>30.0000</td>\n",
       "      <td>26.0</td>\n",
       "      <td>26.0</td>\n",
       "    </tr>\n",
       "    <tr>\n",
       "      <th>890</th>\n",
       "      <td>0</td>\n",
       "      <td>32.0</td>\n",
       "      <td>7.7500</td>\n",
       "      <td>32.0</td>\n",
       "      <td>32.0</td>\n",
       "    </tr>\n",
       "  </tbody>\n",
       "</table>\n",
       "<p>891 rows × 5 columns</p>\n",
       "</div>"
      ],
      "text/plain": [
       "     Survived   Age     Fare  Age_Median  Age_random\n",
       "0           0  22.0   7.2500        22.0        22.0\n",
       "1           1  38.0  71.2833        38.0        38.0\n",
       "2           1  26.0   7.9250        26.0        26.0\n",
       "3           1  35.0  53.1000        35.0        35.0\n",
       "4           0  35.0   8.0500        35.0        35.0\n",
       "..        ...   ...      ...         ...         ...\n",
       "886         0  27.0  13.0000        27.0        27.0\n",
       "887         1  19.0  30.0000        19.0        19.0\n",
       "888         0   NaN  23.4500        28.0        15.0\n",
       "889         1  26.0  30.0000        26.0        26.0\n",
       "890         0  32.0   7.7500        32.0        32.0\n",
       "\n",
       "[891 rows x 5 columns]"
      ]
     },
     "execution_count": 42,
     "metadata": {},
     "output_type": "execute_result"
    }
   ],
   "source": [
    "df"
   ]
  },
  {
   "cell_type": "code",
   "execution_count": 72,
   "id": "a46ef126",
   "metadata": {},
   "outputs": [],
   "source": [
    "def impute_nan1(df,variable,median):\n",
    "    df[variable+\"_Median\"]=df[variable].fillna(median) # Replace Nan values with median value and print entire column that Stored in the variable_median.\n",
    "    df[variable+\"_random\"]=df[variable]\n",
    "#     ##It will have the random sample to fill the na\n",
    "    random_sample=df[variable].dropna().sample(df[variable].isnull().sum(),random_state=0)\n",
    "#     ##pandas need to have same index in order to merge the dataset\n",
    "    random_sample.index=df[df[variable].isnull()].index\n",
    "    df.loc[df[variable].isnull(),variable+'_random']=random_sample # random sample values are assigning to the df.loc\n",
    "    #df.loc- This part of the code is used to access and modify specific rows and columns in the DataFrame df. It allows for label-based indexing.\n",
    "    # df.loc[df[variable].isnull(), variable+'_random']: This part of the code selects rows where the values in the column specified by the variable variable are missing (True values in the boolean mask), and then selects the column named variable+'_random'. This column is created if it doesn't already exist."
   ]
  },
  {
   "cell_type": "code",
   "execution_count": 73,
   "id": "157a6692",
   "metadata": {},
   "outputs": [],
   "source": [
    "impute_nan1(df,\"Age\",median)"
   ]
  },
  {
   "cell_type": "code",
   "execution_count": 74,
   "id": "557595d8",
   "metadata": {},
   "outputs": [
    {
     "data": {
      "text/html": [
       "<div>\n",
       "<style scoped>\n",
       "    .dataframe tbody tr th:only-of-type {\n",
       "        vertical-align: middle;\n",
       "    }\n",
       "\n",
       "    .dataframe tbody tr th {\n",
       "        vertical-align: top;\n",
       "    }\n",
       "\n",
       "    .dataframe thead th {\n",
       "        text-align: right;\n",
       "    }\n",
       "</style>\n",
       "<table border=\"1\" class=\"dataframe\">\n",
       "  <thead>\n",
       "    <tr style=\"text-align: right;\">\n",
       "      <th></th>\n",
       "      <th>Survived</th>\n",
       "      <th>Age</th>\n",
       "      <th>Fare</th>\n",
       "      <th>Age_Median</th>\n",
       "      <th>Age_random</th>\n",
       "    </tr>\n",
       "  </thead>\n",
       "  <tbody>\n",
       "    <tr>\n",
       "      <th>0</th>\n",
       "      <td>0</td>\n",
       "      <td>22.0</td>\n",
       "      <td>7.2500</td>\n",
       "      <td>22.0</td>\n",
       "      <td>22.0</td>\n",
       "    </tr>\n",
       "    <tr>\n",
       "      <th>1</th>\n",
       "      <td>1</td>\n",
       "      <td>38.0</td>\n",
       "      <td>71.2833</td>\n",
       "      <td>38.0</td>\n",
       "      <td>38.0</td>\n",
       "    </tr>\n",
       "    <tr>\n",
       "      <th>2</th>\n",
       "      <td>1</td>\n",
       "      <td>26.0</td>\n",
       "      <td>7.9250</td>\n",
       "      <td>26.0</td>\n",
       "      <td>26.0</td>\n",
       "    </tr>\n",
       "    <tr>\n",
       "      <th>3</th>\n",
       "      <td>1</td>\n",
       "      <td>35.0</td>\n",
       "      <td>53.1000</td>\n",
       "      <td>35.0</td>\n",
       "      <td>35.0</td>\n",
       "    </tr>\n",
       "    <tr>\n",
       "      <th>4</th>\n",
       "      <td>0</td>\n",
       "      <td>35.0</td>\n",
       "      <td>8.0500</td>\n",
       "      <td>35.0</td>\n",
       "      <td>35.0</td>\n",
       "    </tr>\n",
       "    <tr>\n",
       "      <th>...</th>\n",
       "      <td>...</td>\n",
       "      <td>...</td>\n",
       "      <td>...</td>\n",
       "      <td>...</td>\n",
       "      <td>...</td>\n",
       "    </tr>\n",
       "    <tr>\n",
       "      <th>886</th>\n",
       "      <td>0</td>\n",
       "      <td>27.0</td>\n",
       "      <td>13.0000</td>\n",
       "      <td>27.0</td>\n",
       "      <td>27.0</td>\n",
       "    </tr>\n",
       "    <tr>\n",
       "      <th>887</th>\n",
       "      <td>1</td>\n",
       "      <td>19.0</td>\n",
       "      <td>30.0000</td>\n",
       "      <td>19.0</td>\n",
       "      <td>19.0</td>\n",
       "    </tr>\n",
       "    <tr>\n",
       "      <th>888</th>\n",
       "      <td>0</td>\n",
       "      <td>NaN</td>\n",
       "      <td>23.4500</td>\n",
       "      <td>28.0</td>\n",
       "      <td>15.0</td>\n",
       "    </tr>\n",
       "    <tr>\n",
       "      <th>889</th>\n",
       "      <td>1</td>\n",
       "      <td>26.0</td>\n",
       "      <td>30.0000</td>\n",
       "      <td>26.0</td>\n",
       "      <td>26.0</td>\n",
       "    </tr>\n",
       "    <tr>\n",
       "      <th>890</th>\n",
       "      <td>0</td>\n",
       "      <td>32.0</td>\n",
       "      <td>7.7500</td>\n",
       "      <td>32.0</td>\n",
       "      <td>32.0</td>\n",
       "    </tr>\n",
       "  </tbody>\n",
       "</table>\n",
       "<p>891 rows × 5 columns</p>\n",
       "</div>"
      ],
      "text/plain": [
       "     Survived   Age     Fare  Age_Median  Age_random\n",
       "0           0  22.0   7.2500        22.0        22.0\n",
       "1           1  38.0  71.2833        38.0        38.0\n",
       "2           1  26.0   7.9250        26.0        26.0\n",
       "3           1  35.0  53.1000        35.0        35.0\n",
       "4           0  35.0   8.0500        35.0        35.0\n",
       "..        ...   ...      ...         ...         ...\n",
       "886         0  27.0  13.0000        27.0        27.0\n",
       "887         1  19.0  30.0000        19.0        19.0\n",
       "888         0   NaN  23.4500        28.0        15.0\n",
       "889         1  26.0  30.0000        26.0        26.0\n",
       "890         0  32.0   7.7500        32.0        32.0\n",
       "\n",
       "[891 rows x 5 columns]"
      ]
     },
     "execution_count": 74,
     "metadata": {},
     "output_type": "execute_result"
    }
   ],
   "source": [
    "df"
   ]
  },
  {
   "cell_type": "code",
   "execution_count": 58,
   "id": "686d4d33",
   "metadata": {},
   "outputs": [],
   "source": [
    "import pandas as pd\n",
    "import matplotlib.pyplot as plt\n",
    "%matplotlib inline"
   ]
  },
  {
   "cell_type": "code",
   "execution_count": 62,
   "id": "5bef7d4a",
   "metadata": {},
   "outputs": [
    {
     "data": {
      "text/plain": [
       "<matplotlib.legend.Legend at 0x2785151c520>"
      ]
     },
     "execution_count": 62,
     "metadata": {},
     "output_type": "execute_result"
    },
    {
     "data": {
      "image/png": "[encoded data removed]",
      "text/plain": [
       "<Figure size 432x288 with 1 Axes>"
      ]
     },
     "metadata": {
      "needs_background": "light"
     },
     "output_type": "display_data"
    }
   ],
   "source": [
    "fig=plt.figure()\n",
    "ax=fig.add_subplot(111)\n",
    "df['Age'].plot(kind='kde',ax=ax)\n",
    "df['Age_Median'].plot(kind='kde',ax=ax,color='red')\n",
    "df['Age_random'].plot(kind='kde',ax=ax,color='green')\n",
    "lines, labels=ax.get_legend_handles_labels()\n",
    "ax.legend(lines,labels,loc='best') #Age _random and age are no change\n",
    "# Random simple imputation is very useful when compared to median because Age_random very slight deviation wrt to age "
   ]
  },
  {
   "cell_type": "markdown",
   "id": "168492aa",
   "metadata": {},
   "source": [
    "# Advantages\n",
    "\n",
    "1. Easy To implement\n",
    "\n",
    "2. There is less distortion in variance"
   ]
  },
  {
   "cell_type": "markdown",
   "id": "339504be",
   "metadata": {},
   "source": [
    "# Disadvantage\n",
    "\n",
    "1. Every situation randomness wont work"
   ]
  },
  {
   "cell_type": "markdown",
   "id": "9bc6c776",
   "metadata": {},
   "source": [
    "# Capturing NAN values with a new feature\n",
    "\n",
    "It works well if the data are not missing completely at random"
   ]
  },
  {
   "cell_type": "code",
   "execution_count": 9,
   "id": "9f9c84d9",
   "metadata": {},
   "outputs": [
    {
     "data": {
      "text/html": [
       "<div>\n",
       "<style scoped>\n",
       "    .dataframe tbody tr th:only-of-type {\n",
       "        vertical-align: middle;\n",
       "    }\n",
       "\n",
       "    .dataframe tbody tr th {\n",
       "        vertical-align: top;\n",
       "    }\n",
       "\n",
       "    .dataframe thead th {\n",
       "        text-align: right;\n",
       "    }\n",
       "</style>\n",
       "<table border=\"1\" class=\"dataframe\">\n",
       "  <thead>\n",
       "    <tr style=\"text-align: right;\">\n",
       "      <th></th>\n",
       "      <th>Survived</th>\n",
       "      <th>Age</th>\n",
       "      <th>Fare</th>\n",
       "    </tr>\n",
       "  </thead>\n",
       "  <tbody>\n",
       "    <tr>\n",
       "      <th>5</th>\n",
       "      <td>0</td>\n",
       "      <td>NaN</td>\n",
       "      <td>8.4583</td>\n",
       "    </tr>\n",
       "    <tr>\n",
       "      <th>17</th>\n",
       "      <td>1</td>\n",
       "      <td>NaN</td>\n",
       "      <td>13.0000</td>\n",
       "    </tr>\n",
       "    <tr>\n",
       "      <th>19</th>\n",
       "      <td>1</td>\n",
       "      <td>NaN</td>\n",
       "      <td>7.2250</td>\n",
       "    </tr>\n",
       "    <tr>\n",
       "      <th>26</th>\n",
       "      <td>0</td>\n",
       "      <td>NaN</td>\n",
       "      <td>7.2250</td>\n",
       "    </tr>\n",
       "    <tr>\n",
       "      <th>28</th>\n",
       "      <td>1</td>\n",
       "      <td>NaN</td>\n",
       "      <td>7.8792</td>\n",
       "    </tr>\n",
       "    <tr>\n",
       "      <th>...</th>\n",
       "      <td>...</td>\n",
       "      <td>...</td>\n",
       "      <td>...</td>\n",
       "    </tr>\n",
       "    <tr>\n",
       "      <th>859</th>\n",
       "      <td>0</td>\n",
       "      <td>NaN</td>\n",
       "      <td>7.2292</td>\n",
       "    </tr>\n",
       "    <tr>\n",
       "      <th>863</th>\n",
       "      <td>0</td>\n",
       "      <td>NaN</td>\n",
       "      <td>69.5500</td>\n",
       "    </tr>\n",
       "    <tr>\n",
       "      <th>868</th>\n",
       "      <td>0</td>\n",
       "      <td>NaN</td>\n",
       "      <td>9.5000</td>\n",
       "    </tr>\n",
       "    <tr>\n",
       "      <th>878</th>\n",
       "      <td>0</td>\n",
       "      <td>NaN</td>\n",
       "      <td>7.8958</td>\n",
       "    </tr>\n",
       "    <tr>\n",
       "      <th>888</th>\n",
       "      <td>0</td>\n",
       "      <td>NaN</td>\n",
       "      <td>23.4500</td>\n",
       "    </tr>\n",
       "  </tbody>\n",
       "</table>\n",
       "<p>177 rows × 3 columns</p>\n",
       "</div>"
      ],
      "text/plain": [
       "     Survived  Age     Fare\n",
       "5           0  NaN   8.4583\n",
       "17          1  NaN  13.0000\n",
       "19          1  NaN   7.2250\n",
       "26          0  NaN   7.2250\n",
       "28          1  NaN   7.8792\n",
       "..        ...  ...      ...\n",
       "859         0  NaN   7.2292\n",
       "863         0  NaN  69.5500\n",
       "868         0  NaN   9.5000\n",
       "878         0  NaN   7.8958\n",
       "888         0  NaN  23.4500\n",
       "\n",
       "[177 rows x 3 columns]"
      ]
     },
     "execution_count": 9,
     "metadata": {},
     "output_type": "execute_result"
    }
   ],
   "source": [
    "\n",
    "df.head()\n",
    "df[df['Age'].isnull()]"
   ]
  },
  {
   "cell_type": "code",
   "execution_count": 15,
   "id": "5c40111c",
   "metadata": {},
   "outputs": [
    {
     "data": {
      "text/plain": [
       "5     NaN\n",
       "17    NaN\n",
       "19    NaN\n",
       "26    NaN\n",
       "28    NaN\n",
       "       ..\n",
       "859   NaN\n",
       "863   NaN\n",
       "868   NaN\n",
       "878   NaN\n",
       "888   NaN\n",
       "Name: Age, Length: 177, dtype: float64"
      ]
     },
     "execution_count": 15,
     "metadata": {},
     "output_type": "execute_result"
    }
   ],
   "source": [
    "df.loc[df['Age'].isnull(),'Age']"
   ]
  },
  {
   "cell_type": "code",
   "execution_count": 32,
   "id": "ef7425bf",
   "metadata": {},
   "outputs": [
    {
     "name": "stdout",
     "output_type": "stream",
     "text": [
      "[5, 17, 19, 26, 28, 29, 31, 32, 36, 42, 45, 46, 47, 48, 55, 64, 65, 76, 77, 82, 87, 95, 101, 107, 109, 121, 126, 128, 140, 154, 158, 159, 166, 168, 176, 180, 181, 185, 186, 196, 198, 201, 214, 223, 229, 235, 240, 241, 250, 256, 260, 264, 270, 274, 277, 284, 295, 298, 300, 301, 303, 304, 306, 324, 330, 334, 335, 347, 351, 354, 358, 359, 364, 367, 368, 375, 384, 388, 409, 410, 411, 413, 415, 420, 425, 428, 431, 444, 451, 454, 457, 459, 464, 466, 468, 470, 475, 481, 485, 490, 495, 497, 502, 507, 511, 517, 522, 524, 527, 531, 533, 538, 547, 552, 557, 560, 563, 564, 568, 573, 578, 584, 589, 593, 596, 598, 601, 602, 611, 612, 613, 629, 633, 639, 643, 648, 650, 653, 656, 667, 669, 674, 680, 692, 697, 709, 711, 718, 727, 732, 738, 739, 740, 760, 766, 768, 773, 776, 778, 783, 790, 792, 793, 815, 825, 826, 828, 832, 837, 839, 846, 849, 859, 863, 868, 878, 888]\n"
     ]
    }
   ],
   "source": [
    "import numpy as np\n",
    "Age_Null_index=df.index[df['Age'].isnull()].tolist() #df[df['age'].isnull()].index.tolist()\n",
    "print(Age_Null_index)"
   ]
  },
  {
   "cell_type": "code",
   "execution_count": 33,
   "id": "30912548",
   "metadata": {},
   "outputs": [
    {
     "data": {
      "text/plain": [
       "[5,\n",
       " 17,\n",
       " 19,\n",
       " 26,\n",
       " 28,\n",
       " 29,\n",
       " 31,\n",
       " 32,\n",
       " 36,\n",
       " 42,\n",
       " 45,\n",
       " 46,\n",
       " 47,\n",
       " 48,\n",
       " 55,\n",
       " 64,\n",
       " 65,\n",
       " 76,\n",
       " 77,\n",
       " 82,\n",
       " 87,\n",
       " 95,\n",
       " 101,\n",
       " 107,\n",
       " 109,\n",
       " 121,\n",
       " 126,\n",
       " 128,\n",
       " 140,\n",
       " 154,\n",
       " 158,\n",
       " 159,\n",
       " 166,\n",
       " 168,\n",
       " 176,\n",
       " 180,\n",
       " 181,\n",
       " 185,\n",
       " 186,\n",
       " 196,\n",
       " 198,\n",
       " 201,\n",
       " 214,\n",
       " 223,\n",
       " 229,\n",
       " 235,\n",
       " 240,\n",
       " 241,\n",
       " 250,\n",
       " 256,\n",
       " 260,\n",
       " 264,\n",
       " 270,\n",
       " 274,\n",
       " 277,\n",
       " 284,\n",
       " 295,\n",
       " 298,\n",
       " 300,\n",
       " 301,\n",
       " 303,\n",
       " 304,\n",
       " 306,\n",
       " 324,\n",
       " 330,\n",
       " 334,\n",
       " 335,\n",
       " 347,\n",
       " 351,\n",
       " 354,\n",
       " 358,\n",
       " 359,\n",
       " 364,\n",
       " 367,\n",
       " 368,\n",
       " 375,\n",
       " 384,\n",
       " 388,\n",
       " 409,\n",
       " 410,\n",
       " 411,\n",
       " 413,\n",
       " 415,\n",
       " 420,\n",
       " 425,\n",
       " 428,\n",
       " 431,\n",
       " 444,\n",
       " 451,\n",
       " 454,\n",
       " 457,\n",
       " 459,\n",
       " 464,\n",
       " 466,\n",
       " 468,\n",
       " 470,\n",
       " 475,\n",
       " 481,\n",
       " 485,\n",
       " 490,\n",
       " 495,\n",
       " 497,\n",
       " 502,\n",
       " 507,\n",
       " 511,\n",
       " 517,\n",
       " 522,\n",
       " 524,\n",
       " 527,\n",
       " 531,\n",
       " 533,\n",
       " 538,\n",
       " 547,\n",
       " 552,\n",
       " 557,\n",
       " 560,\n",
       " 563,\n",
       " 564,\n",
       " 568,\n",
       " 573,\n",
       " 578,\n",
       " 584,\n",
       " 589,\n",
       " 593,\n",
       " 596,\n",
       " 598,\n",
       " 601,\n",
       " 602,\n",
       " 611,\n",
       " 612,\n",
       " 613,\n",
       " 629,\n",
       " 633,\n",
       " 639,\n",
       " 643,\n",
       " 648,\n",
       " 650,\n",
       " 653,\n",
       " 656,\n",
       " 667,\n",
       " 669,\n",
       " 674,\n",
       " 680,\n",
       " 692,\n",
       " 697,\n",
       " 709,\n",
       " 711,\n",
       " 718,\n",
       " 727,\n",
       " 732,\n",
       " 738,\n",
       " 739,\n",
       " 740,\n",
       " 760,\n",
       " 766,\n",
       " 768,\n",
       " 773,\n",
       " 776,\n",
       " 778,\n",
       " 783,\n",
       " 790,\n",
       " 792,\n",
       " 793,\n",
       " 815,\n",
       " 825,\n",
       " 826,\n",
       " 828,\n",
       " 832,\n",
       " 837,\n",
       " 839,\n",
       " 846,\n",
       " 849,\n",
       " 859,\n",
       " 863,\n",
       " 868,\n",
       " 878,\n",
       " 888]"
      ]
     },
     "execution_count": 33,
     "metadata": {},
     "output_type": "execute_result"
    }
   ],
   "source": [
    "df[df['Age'].isnull()].index.tolist()"
   ]
  },
  {
   "cell_type": "code",
   "execution_count": 34,
   "id": "c91119ac",
   "metadata": {},
   "outputs": [],
   "source": [
    "df[\"Age_Nan\"]=np.where(df['Age'].isnull(),1,0)"
   ]
  },
  {
   "cell_type": "code",
   "execution_count": 35,
   "id": "8d56cd9a",
   "metadata": {},
   "outputs": [
    {
     "data": {
      "text/plain": [
       "0      0\n",
       "1      0\n",
       "2      0\n",
       "3      0\n",
       "4      0\n",
       "      ..\n",
       "886    0\n",
       "887    0\n",
       "888    1\n",
       "889    0\n",
       "890    0\n",
       "Name: Age_Nan, Length: 891, dtype: int32"
      ]
     },
     "execution_count": 35,
     "metadata": {},
     "output_type": "execute_result"
    }
   ],
   "source": [
    "df['Age_Nan']"
   ]
  },
  {
   "cell_type": "code",
   "execution_count": 36,
   "id": "40313978",
   "metadata": {},
   "outputs": [
    {
     "data": {
      "text/plain": [
       "1"
      ]
     },
     "execution_count": 36,
     "metadata": {},
     "output_type": "execute_result"
    }
   ],
   "source": [
    "df.at[17, 'Age_Nan']"
   ]
  },
  {
   "cell_type": "code",
   "execution_count": 37,
   "id": "76c68a99",
   "metadata": {},
   "outputs": [
    {
     "data": {
      "text/plain": [
       "0"
      ]
     },
     "execution_count": 37,
     "metadata": {},
     "output_type": "execute_result"
    }
   ],
   "source": [
    "df.at[16,'Age_Nan']"
   ]
  },
  {
   "cell_type": "code",
   "execution_count": 38,
   "id": "c00f4ac4",
   "metadata": {},
   "outputs": [
    {
     "data": {
      "text/plain": [
       "28.0"
      ]
     },
     "execution_count": 38,
     "metadata": {},
     "output_type": "execute_result"
    }
   ],
   "source": [
    "df.Age.median()"
   ]
  },
  {
   "cell_type": "code",
   "execution_count": 39,
   "id": "a7af99d1",
   "metadata": {},
   "outputs": [
    {
     "data": {
      "text/plain": [
       "28.0"
      ]
     },
     "execution_count": 39,
     "metadata": {},
     "output_type": "execute_result"
    }
   ],
   "source": [
    "df['Age'].median()"
   ]
  },
  {
   "cell_type": "code",
   "execution_count": 40,
   "id": "f12c285c",
   "metadata": {},
   "outputs": [],
   "source": [
    "df['Age'].fillna(df.Age.median(),inplace=True)"
   ]
  },
  {
   "cell_type": "code",
   "execution_count": 42,
   "id": "0c7e0da6",
   "metadata": {},
   "outputs": [
    {
     "data": {
      "text/plain": [
       "28.0"
      ]
     },
     "execution_count": 42,
     "metadata": {},
     "output_type": "execute_result"
    }
   ],
   "source": [
    "df.at[17,'Age']"
   ]
  },
  {
   "cell_type": "markdown",
   "id": "3ae97e30",
   "metadata": {},
   "source": [
    "## Advantages\n",
    "\n",
    "Easy to implement\n",
    "\n",
    "Captures the importance of missing values\n",
    "\n",
    "\n",
    "## Disadvantages\n",
    "\n",
    "Creating Additional Features(Curse of Dimensionality)"
   ]
  },
  {
   "cell_type": "markdown",
   "id": "dcbd35d3",
   "metadata": {},
   "source": [
    "# End of Distribution imputation"
   ]
  },
  {
   "cell_type": "code",
   "execution_count": 43,
   "id": "ad0f1b28",
   "metadata": {},
   "outputs": [
    {
     "data": {
      "text/plain": [
       "<AxesSubplot:>"
      ]
     },
     "execution_count": 43,
     "metadata": {},
     "output_type": "execute_result"
    },
    {
     "data": {
      "image/png": "[encoded data removed]",
      "text/plain": [
       "<Figure size 432x288 with 1 Axes>"
      ]
     },
     "metadata": {
      "needs_background": "light"
     },
     "output_type": "display_data"
    }
   ],
   "source": [
    "df['Age'].hist(bins=50)"
   ]
  },
  {
   "cell_type": "code",
   "execution_count": 78,
   "id": "48912687",
   "metadata": {},
   "outputs": [
    {
     "data": {
      "text/plain": [
       "68.42067214450208"
      ]
     },
     "execution_count": 78,
     "metadata": {},
     "output_type": "execute_result"
    }
   ],
   "source": [
    "df.Age.mean()+3*df.Age.std()"
   ]
  },
  {
   "cell_type": "code",
   "execution_count": 77,
   "id": "d6536eb8",
   "metadata": {},
   "outputs": [],
   "source": [
    "# mean+3std away\n",
    "extreme=df.Age.mean()+3*df.Age.std()"
   ]
  },
  {
   "cell_type": "code",
   "execution_count": 49,
   "id": "9ea02626",
   "metadata": {},
   "outputs": [
    {
     "data": {
      "text/plain": [
       "<AxesSubplot:xlabel='Age'>"
      ]
     },
     "execution_count": 49,
     "metadata": {},
     "output_type": "execute_result"
    },
    {
     "data": {
      "image/png": "[encoded data removed]",
      "text/plain": [
       "<Figure size 432x288 with 1 Axes>"
      ]
     },
     "metadata": {
      "needs_background": "light"
     },
     "output_type": "display_data"
    }
   ],
   "source": [
    "import seaborn as sns\n",
    "sns.boxplot(df['Age'])"
   ]
  },
  {
   "cell_type": "code",
   "execution_count": 47,
   "id": "54694924",
   "metadata": {},
   "outputs": [
    {
     "data": {
      "text/plain": [
       "array([[<AxesSubplot:title={'center':'Survived'}>,\n",
       "        <AxesSubplot:title={'center':'Age'}>],\n",
       "       [<AxesSubplot:title={'center':'Fare'}>,\n",
       "        <AxesSubplot:title={'center':'Age_Nan'}>]], dtype=object)"
      ]
     },
     "execution_count": 47,
     "metadata": {},
     "output_type": "execute_result"
    },
    {
     "data": {
      "image/png": "[encoded data removed]",
      "text/plain": [
       "<Figure size 1080x720 with 4 Axes>"
      ]
     },
     "metadata": {
      "needs_background": "light"
     },
     "output_type": "display_data"
    }
   ],
   "source": [
    "df.hist(bins=20, figsize=(15, 10))"
   ]
  },
  {
   "cell_type": "code",
   "execution_count": 52,
   "id": "c5bffaba",
   "metadata": {},
   "outputs": [
    {
     "data": {
      "text/plain": [
       "<Figure size 720x432 with 0 Axes>"
      ]
     },
     "metadata": {},
     "output_type": "display_data"
    },
    {
     "data": {
      "image/png": "[encoded data removed]",
      "text/plain": [
       "<Figure size 864x432 with 4 Axes>"
      ]
     },
     "metadata": {
      "needs_background": "light"
     },
     "output_type": "display_data"
    }
   ],
   "source": [
    "import matplotlib.pyplot as plt\n",
    "%matplotlib inline\n",
    "plt.figure(figsize=(10, 6))\n",
    "\n",
    "plt.figure(figsize=(12, 6))\n",
    "sns.set(style=\"whitegrid\")  # Set the style of the plots\n",
    "\n",
    "# Iterate over each column and create a box plot\n",
    "for i, col in enumerate(df.columns):\n",
    "    plt.subplot(1, len(df.columns), i + 1)\n",
    "    sns.boxplot(y=df[col].dropna(), color='skyblue')  # You can adjust the color here\n",
    "    plt.title(col, fontsize=14)\n",
    "    plt.xlabel('')  # Remove x-labels for better clarity\n",
    "\n",
    "plt.tight_layout()\n",
    "plt.show()"
   ]
  },
  {
   "cell_type": "code",
   "execution_count": 93,
   "id": "2b61d650",
   "metadata": {},
   "outputs": [
    {
     "data": {
      "text/html": [
       "<div>\n",
       "<style scoped>\n",
       "    .dataframe tbody tr th:only-of-type {\n",
       "        vertical-align: middle;\n",
       "    }\n",
       "\n",
       "    .dataframe tbody tr th {\n",
       "        vertical-align: top;\n",
       "    }\n",
       "\n",
       "    .dataframe thead th {\n",
       "        text-align: right;\n",
       "    }\n",
       "</style>\n",
       "<table border=\"1\" class=\"dataframe\">\n",
       "  <thead>\n",
       "    <tr style=\"text-align: right;\">\n",
       "      <th></th>\n",
       "      <th>Survived</th>\n",
       "      <th>Age</th>\n",
       "      <th>Fare</th>\n",
       "    </tr>\n",
       "  </thead>\n",
       "  <tbody>\n",
       "    <tr>\n",
       "      <th>0</th>\n",
       "      <td>0</td>\n",
       "      <td>22.0</td>\n",
       "      <td>7.2500</td>\n",
       "    </tr>\n",
       "    <tr>\n",
       "      <th>1</th>\n",
       "      <td>1</td>\n",
       "      <td>38.0</td>\n",
       "      <td>71.2833</td>\n",
       "    </tr>\n",
       "    <tr>\n",
       "      <th>2</th>\n",
       "      <td>1</td>\n",
       "      <td>26.0</td>\n",
       "      <td>7.9250</td>\n",
       "    </tr>\n",
       "    <tr>\n",
       "      <th>3</th>\n",
       "      <td>1</td>\n",
       "      <td>35.0</td>\n",
       "      <td>53.1000</td>\n",
       "    </tr>\n",
       "    <tr>\n",
       "      <th>4</th>\n",
       "      <td>0</td>\n",
       "      <td>35.0</td>\n",
       "      <td>8.0500</td>\n",
       "    </tr>\n",
       "  </tbody>\n",
       "</table>\n",
       "</div>"
      ],
      "text/plain": [
       "   Survived   Age     Fare\n",
       "0         0  22.0   7.2500\n",
       "1         1  38.0  71.2833\n",
       "2         1  26.0   7.9250\n",
       "3         1  35.0  53.1000\n",
       "4         0  35.0   8.0500"
      ]
     },
     "execution_count": 93,
     "metadata": {},
     "output_type": "execute_result"
    }
   ],
   "source": [
    "import pandas as pd\n",
    "df2=pd.read_csv('titanic_train.csv', usecols=['Age','Fare','Survived'])\n",
    "df2.head()"
   ]
  },
  {
   "cell_type": "code",
   "execution_count": 94,
   "id": "1c96ac2b",
   "metadata": {},
   "outputs": [],
   "source": [
    "extreme=df2.Age.mean()+3*df2.Age.std()"
   ]
  },
  {
   "cell_type": "code",
   "execution_count": 95,
   "id": "435bb41f",
   "metadata": {},
   "outputs": [],
   "source": [
    "def impute_nan(df2,variable,median,extreme):\n",
    "    df2[variable+\"_end_distribution\"]=df2[variable].fillna(extreme)\n",
    "    df2[variable].fillna(median,inplace=True)"
   ]
  },
  {
   "cell_type": "code",
   "execution_count": 69,
   "id": "986a90d5",
   "metadata": {},
   "outputs": [],
   "source": [
    "# def impute_nan1(df,variable,median,extreme):\n",
    "#     df[variable+\"_end_distribution\"]=df[variable].fillna(extreme)\n",
    "   "
   ]
  },
  {
   "cell_type": "code",
   "execution_count": 96,
   "id": "1424839a",
   "metadata": {},
   "outputs": [
    {
     "data": {
      "text/html": [
       "<div>\n",
       "<style scoped>\n",
       "    .dataframe tbody tr th:only-of-type {\n",
       "        vertical-align: middle;\n",
       "    }\n",
       "\n",
       "    .dataframe tbody tr th {\n",
       "        vertical-align: top;\n",
       "    }\n",
       "\n",
       "    .dataframe thead th {\n",
       "        text-align: right;\n",
       "    }\n",
       "</style>\n",
       "<table border=\"1\" class=\"dataframe\">\n",
       "  <thead>\n",
       "    <tr style=\"text-align: right;\">\n",
       "      <th></th>\n",
       "      <th>Survived</th>\n",
       "      <th>Age</th>\n",
       "      <th>Fare</th>\n",
       "      <th>Age_end_distribution</th>\n",
       "    </tr>\n",
       "  </thead>\n",
       "  <tbody>\n",
       "    <tr>\n",
       "      <th>0</th>\n",
       "      <td>0</td>\n",
       "      <td>22.0</td>\n",
       "      <td>7.2500</td>\n",
       "      <td>22.0</td>\n",
       "    </tr>\n",
       "    <tr>\n",
       "      <th>1</th>\n",
       "      <td>1</td>\n",
       "      <td>38.0</td>\n",
       "      <td>71.2833</td>\n",
       "      <td>38.0</td>\n",
       "    </tr>\n",
       "    <tr>\n",
       "      <th>2</th>\n",
       "      <td>1</td>\n",
       "      <td>26.0</td>\n",
       "      <td>7.9250</td>\n",
       "      <td>26.0</td>\n",
       "    </tr>\n",
       "    <tr>\n",
       "      <th>3</th>\n",
       "      <td>1</td>\n",
       "      <td>35.0</td>\n",
       "      <td>53.1000</td>\n",
       "      <td>35.0</td>\n",
       "    </tr>\n",
       "    <tr>\n",
       "      <th>4</th>\n",
       "      <td>0</td>\n",
       "      <td>35.0</td>\n",
       "      <td>8.0500</td>\n",
       "      <td>35.0</td>\n",
       "    </tr>\n",
       "  </tbody>\n",
       "</table>\n",
       "</div>"
      ],
      "text/plain": [
       "   Survived   Age     Fare  Age_end_distribution\n",
       "0         0  22.0   7.2500                  22.0\n",
       "1         1  38.0  71.2833                  38.0\n",
       "2         1  26.0   7.9250                  26.0\n",
       "3         1  35.0  53.1000                  35.0\n",
       "4         0  35.0   8.0500                  35.0"
      ]
     },
     "execution_count": 96,
     "metadata": {},
     "output_type": "execute_result"
    }
   ],
   "source": [
    "impute_nan(df2,'Age',df2.Age.median(),extreme)\n",
    "df2.head()"
   ]
  },
  {
   "cell_type": "code",
   "execution_count": 91,
   "id": "94292834",
   "metadata": {},
   "outputs": [],
   "source": [
    "# impute_nan(df,'Age',df.Age.median(),extreme)\n",
    "# df.head()"
   ]
  },
  {
   "cell_type": "code",
   "execution_count": 76,
   "id": "3cd4f8e0",
   "metadata": {},
   "outputs": [
    {
     "data": {
      "text/plain": [
       "0      22.0\n",
       "1      38.0\n",
       "2      26.0\n",
       "3      35.0\n",
       "4      35.0\n",
       "       ... \n",
       "886    27.0\n",
       "887    19.0\n",
       "888    28.0\n",
       "889    26.0\n",
       "890    32.0\n",
       "Name: Age, Length: 891, dtype: float64"
      ]
     },
     "execution_count": 76,
     "metadata": {},
     "output_type": "execute_result"
    }
   ],
   "source": [
    "df.head(10)\n",
    "df['Age'].fillna(extreme)"
   ]
  },
  {
   "cell_type": "code",
   "execution_count": 58,
   "id": "c24a6055",
   "metadata": {},
   "outputs": [],
   "source": [
    "quartiles = df['Age'].quantile([0.25, 0.5, 0.75])"
   ]
  },
  {
   "cell_type": "code",
   "execution_count": 59,
   "id": "160f4d57",
   "metadata": {},
   "outputs": [
    {
     "data": {
      "text/plain": [
       "0.25    22.0\n",
       "0.50    28.0\n",
       "0.75    35.0\n",
       "Name: Age, dtype: float64"
      ]
     },
     "execution_count": 59,
     "metadata": {},
     "output_type": "execute_result"
    }
   ],
   "source": [
    "quartiles"
   ]
  },
  {
   "cell_type": "code",
   "execution_count": 63,
   "id": "f9918d6c",
   "metadata": {},
   "outputs": [
    {
     "name": "stdout",
     "output_type": "stream",
     "text": [
      "54.5\n"
     ]
    }
   ],
   "source": [
    "print(35+1.5*(35.0-22.0))"
   ]
  },
  {
   "cell_type": "code",
   "execution_count": 65,
   "id": "2086aeab",
   "metadata": {},
   "outputs": [
    {
     "data": {
      "text/html": [
       "<div>\n",
       "<style scoped>\n",
       "    .dataframe tbody tr th:only-of-type {\n",
       "        vertical-align: middle;\n",
       "    }\n",
       "\n",
       "    .dataframe tbody tr th {\n",
       "        vertical-align: top;\n",
       "    }\n",
       "\n",
       "    .dataframe thead th {\n",
       "        text-align: right;\n",
       "    }\n",
       "</style>\n",
       "<table border=\"1\" class=\"dataframe\">\n",
       "  <thead>\n",
       "    <tr style=\"text-align: right;\">\n",
       "      <th></th>\n",
       "      <th>Survived</th>\n",
       "      <th>Age</th>\n",
       "      <th>Fare</th>\n",
       "      <th>Age_Nan</th>\n",
       "      <th>Age_end_distribution</th>\n",
       "    </tr>\n",
       "  </thead>\n",
       "  <tbody>\n",
       "    <tr>\n",
       "      <th>11</th>\n",
       "      <td>1</td>\n",
       "      <td>58.0</td>\n",
       "      <td>26.5500</td>\n",
       "      <td>0</td>\n",
       "      <td>58.0</td>\n",
       "    </tr>\n",
       "    <tr>\n",
       "      <th>15</th>\n",
       "      <td>1</td>\n",
       "      <td>55.0</td>\n",
       "      <td>16.0000</td>\n",
       "      <td>0</td>\n",
       "      <td>55.0</td>\n",
       "    </tr>\n",
       "    <tr>\n",
       "      <th>33</th>\n",
       "      <td>0</td>\n",
       "      <td>66.0</td>\n",
       "      <td>10.5000</td>\n",
       "      <td>0</td>\n",
       "      <td>66.0</td>\n",
       "    </tr>\n",
       "    <tr>\n",
       "      <th>54</th>\n",
       "      <td>0</td>\n",
       "      <td>65.0</td>\n",
       "      <td>61.9792</td>\n",
       "      <td>0</td>\n",
       "      <td>65.0</td>\n",
       "    </tr>\n",
       "    <tr>\n",
       "      <th>94</th>\n",
       "      <td>0</td>\n",
       "      <td>59.0</td>\n",
       "      <td>7.2500</td>\n",
       "      <td>0</td>\n",
       "      <td>59.0</td>\n",
       "    </tr>\n",
       "    <tr>\n",
       "      <th>96</th>\n",
       "      <td>0</td>\n",
       "      <td>71.0</td>\n",
       "      <td>34.6542</td>\n",
       "      <td>0</td>\n",
       "      <td>71.0</td>\n",
       "    </tr>\n",
       "    <tr>\n",
       "      <th>116</th>\n",
       "      <td>0</td>\n",
       "      <td>70.5</td>\n",
       "      <td>7.7500</td>\n",
       "      <td>0</td>\n",
       "      <td>70.5</td>\n",
       "    </tr>\n",
       "    <tr>\n",
       "      <th>152</th>\n",
       "      <td>0</td>\n",
       "      <td>55.5</td>\n",
       "      <td>8.0500</td>\n",
       "      <td>0</td>\n",
       "      <td>55.5</td>\n",
       "    </tr>\n",
       "    <tr>\n",
       "      <th>170</th>\n",
       "      <td>0</td>\n",
       "      <td>61.0</td>\n",
       "      <td>33.5000</td>\n",
       "      <td>0</td>\n",
       "      <td>61.0</td>\n",
       "    </tr>\n",
       "    <tr>\n",
       "      <th>174</th>\n",
       "      <td>0</td>\n",
       "      <td>56.0</td>\n",
       "      <td>30.6958</td>\n",
       "      <td>0</td>\n",
       "      <td>56.0</td>\n",
       "    </tr>\n",
       "    <tr>\n",
       "      <th>195</th>\n",
       "      <td>1</td>\n",
       "      <td>58.0</td>\n",
       "      <td>146.5208</td>\n",
       "      <td>0</td>\n",
       "      <td>58.0</td>\n",
       "    </tr>\n",
       "    <tr>\n",
       "      <th>232</th>\n",
       "      <td>0</td>\n",
       "      <td>59.0</td>\n",
       "      <td>13.5000</td>\n",
       "      <td>0</td>\n",
       "      <td>59.0</td>\n",
       "    </tr>\n",
       "    <tr>\n",
       "      <th>252</th>\n",
       "      <td>0</td>\n",
       "      <td>62.0</td>\n",
       "      <td>26.5500</td>\n",
       "      <td>0</td>\n",
       "      <td>62.0</td>\n",
       "    </tr>\n",
       "    <tr>\n",
       "      <th>268</th>\n",
       "      <td>1</td>\n",
       "      <td>58.0</td>\n",
       "      <td>153.4625</td>\n",
       "      <td>0</td>\n",
       "      <td>58.0</td>\n",
       "    </tr>\n",
       "    <tr>\n",
       "      <th>275</th>\n",
       "      <td>1</td>\n",
       "      <td>63.0</td>\n",
       "      <td>77.9583</td>\n",
       "      <td>0</td>\n",
       "      <td>63.0</td>\n",
       "    </tr>\n",
       "    <tr>\n",
       "      <th>280</th>\n",
       "      <td>0</td>\n",
       "      <td>65.0</td>\n",
       "      <td>7.7500</td>\n",
       "      <td>0</td>\n",
       "      <td>65.0</td>\n",
       "    </tr>\n",
       "    <tr>\n",
       "      <th>326</th>\n",
       "      <td>0</td>\n",
       "      <td>61.0</td>\n",
       "      <td>6.2375</td>\n",
       "      <td>0</td>\n",
       "      <td>61.0</td>\n",
       "    </tr>\n",
       "    <tr>\n",
       "      <th>366</th>\n",
       "      <td>1</td>\n",
       "      <td>60.0</td>\n",
       "      <td>75.2500</td>\n",
       "      <td>0</td>\n",
       "      <td>60.0</td>\n",
       "    </tr>\n",
       "    <tr>\n",
       "      <th>438</th>\n",
       "      <td>0</td>\n",
       "      <td>64.0</td>\n",
       "      <td>263.0000</td>\n",
       "      <td>0</td>\n",
       "      <td>64.0</td>\n",
       "    </tr>\n",
       "    <tr>\n",
       "      <th>456</th>\n",
       "      <td>0</td>\n",
       "      <td>65.0</td>\n",
       "      <td>26.5500</td>\n",
       "      <td>0</td>\n",
       "      <td>65.0</td>\n",
       "    </tr>\n",
       "    <tr>\n",
       "      <th>467</th>\n",
       "      <td>0</td>\n",
       "      <td>56.0</td>\n",
       "      <td>26.5500</td>\n",
       "      <td>0</td>\n",
       "      <td>56.0</td>\n",
       "    </tr>\n",
       "    <tr>\n",
       "      <th>483</th>\n",
       "      <td>1</td>\n",
       "      <td>63.0</td>\n",
       "      <td>9.5875</td>\n",
       "      <td>0</td>\n",
       "      <td>63.0</td>\n",
       "    </tr>\n",
       "    <tr>\n",
       "      <th>487</th>\n",
       "      <td>0</td>\n",
       "      <td>58.0</td>\n",
       "      <td>29.7000</td>\n",
       "      <td>0</td>\n",
       "      <td>58.0</td>\n",
       "    </tr>\n",
       "    <tr>\n",
       "      <th>492</th>\n",
       "      <td>0</td>\n",
       "      <td>55.0</td>\n",
       "      <td>30.5000</td>\n",
       "      <td>0</td>\n",
       "      <td>55.0</td>\n",
       "    </tr>\n",
       "    <tr>\n",
       "      <th>493</th>\n",
       "      <td>0</td>\n",
       "      <td>71.0</td>\n",
       "      <td>49.5042</td>\n",
       "      <td>0</td>\n",
       "      <td>71.0</td>\n",
       "    </tr>\n",
       "    <tr>\n",
       "      <th>545</th>\n",
       "      <td>0</td>\n",
       "      <td>64.0</td>\n",
       "      <td>26.0000</td>\n",
       "      <td>0</td>\n",
       "      <td>64.0</td>\n",
       "    </tr>\n",
       "    <tr>\n",
       "      <th>555</th>\n",
       "      <td>0</td>\n",
       "      <td>62.0</td>\n",
       "      <td>26.5500</td>\n",
       "      <td>0</td>\n",
       "      <td>62.0</td>\n",
       "    </tr>\n",
       "    <tr>\n",
       "      <th>570</th>\n",
       "      <td>1</td>\n",
       "      <td>62.0</td>\n",
       "      <td>10.5000</td>\n",
       "      <td>0</td>\n",
       "      <td>62.0</td>\n",
       "    </tr>\n",
       "    <tr>\n",
       "      <th>587</th>\n",
       "      <td>1</td>\n",
       "      <td>60.0</td>\n",
       "      <td>79.2000</td>\n",
       "      <td>0</td>\n",
       "      <td>60.0</td>\n",
       "    </tr>\n",
       "    <tr>\n",
       "      <th>625</th>\n",
       "      <td>0</td>\n",
       "      <td>61.0</td>\n",
       "      <td>32.3208</td>\n",
       "      <td>0</td>\n",
       "      <td>61.0</td>\n",
       "    </tr>\n",
       "    <tr>\n",
       "      <th>626</th>\n",
       "      <td>0</td>\n",
       "      <td>57.0</td>\n",
       "      <td>12.3500</td>\n",
       "      <td>0</td>\n",
       "      <td>57.0</td>\n",
       "    </tr>\n",
       "    <tr>\n",
       "      <th>630</th>\n",
       "      <td>1</td>\n",
       "      <td>80.0</td>\n",
       "      <td>30.0000</td>\n",
       "      <td>0</td>\n",
       "      <td>80.0</td>\n",
       "    </tr>\n",
       "    <tr>\n",
       "      <th>647</th>\n",
       "      <td>1</td>\n",
       "      <td>56.0</td>\n",
       "      <td>35.5000</td>\n",
       "      <td>0</td>\n",
       "      <td>56.0</td>\n",
       "    </tr>\n",
       "    <tr>\n",
       "      <th>659</th>\n",
       "      <td>0</td>\n",
       "      <td>58.0</td>\n",
       "      <td>113.2750</td>\n",
       "      <td>0</td>\n",
       "      <td>58.0</td>\n",
       "    </tr>\n",
       "    <tr>\n",
       "      <th>672</th>\n",
       "      <td>0</td>\n",
       "      <td>70.0</td>\n",
       "      <td>10.5000</td>\n",
       "      <td>0</td>\n",
       "      <td>70.0</td>\n",
       "    </tr>\n",
       "    <tr>\n",
       "      <th>684</th>\n",
       "      <td>0</td>\n",
       "      <td>60.0</td>\n",
       "      <td>39.0000</td>\n",
       "      <td>0</td>\n",
       "      <td>60.0</td>\n",
       "    </tr>\n",
       "    <tr>\n",
       "      <th>694</th>\n",
       "      <td>0</td>\n",
       "      <td>60.0</td>\n",
       "      <td>26.5500</td>\n",
       "      <td>0</td>\n",
       "      <td>60.0</td>\n",
       "    </tr>\n",
       "    <tr>\n",
       "      <th>745</th>\n",
       "      <td>0</td>\n",
       "      <td>70.0</td>\n",
       "      <td>71.0000</td>\n",
       "      <td>0</td>\n",
       "      <td>70.0</td>\n",
       "    </tr>\n",
       "    <tr>\n",
       "      <th>772</th>\n",
       "      <td>0</td>\n",
       "      <td>57.0</td>\n",
       "      <td>10.5000</td>\n",
       "      <td>0</td>\n",
       "      <td>57.0</td>\n",
       "    </tr>\n",
       "    <tr>\n",
       "      <th>829</th>\n",
       "      <td>1</td>\n",
       "      <td>62.0</td>\n",
       "      <td>80.0000</td>\n",
       "      <td>0</td>\n",
       "      <td>62.0</td>\n",
       "    </tr>\n",
       "    <tr>\n",
       "      <th>851</th>\n",
       "      <td>0</td>\n",
       "      <td>74.0</td>\n",
       "      <td>7.7750</td>\n",
       "      <td>0</td>\n",
       "      <td>74.0</td>\n",
       "    </tr>\n",
       "    <tr>\n",
       "      <th>879</th>\n",
       "      <td>1</td>\n",
       "      <td>56.0</td>\n",
       "      <td>83.1583</td>\n",
       "      <td>0</td>\n",
       "      <td>56.0</td>\n",
       "    </tr>\n",
       "  </tbody>\n",
       "</table>\n",
       "</div>"
      ],
      "text/plain": [
       "     Survived   Age      Fare  Age_Nan  Age_end_distribution\n",
       "11          1  58.0   26.5500        0                  58.0\n",
       "15          1  55.0   16.0000        0                  55.0\n",
       "33          0  66.0   10.5000        0                  66.0\n",
       "54          0  65.0   61.9792        0                  65.0\n",
       "94          0  59.0    7.2500        0                  59.0\n",
       "96          0  71.0   34.6542        0                  71.0\n",
       "116         0  70.5    7.7500        0                  70.5\n",
       "152         0  55.5    8.0500        0                  55.5\n",
       "170         0  61.0   33.5000        0                  61.0\n",
       "174         0  56.0   30.6958        0                  56.0\n",
       "195         1  58.0  146.5208        0                  58.0\n",
       "232         0  59.0   13.5000        0                  59.0\n",
       "252         0  62.0   26.5500        0                  62.0\n",
       "268         1  58.0  153.4625        0                  58.0\n",
       "275         1  63.0   77.9583        0                  63.0\n",
       "280         0  65.0    7.7500        0                  65.0\n",
       "326         0  61.0    6.2375        0                  61.0\n",
       "366         1  60.0   75.2500        0                  60.0\n",
       "438         0  64.0  263.0000        0                  64.0\n",
       "456         0  65.0   26.5500        0                  65.0\n",
       "467         0  56.0   26.5500        0                  56.0\n",
       "483         1  63.0    9.5875        0                  63.0\n",
       "487         0  58.0   29.7000        0                  58.0\n",
       "492         0  55.0   30.5000        0                  55.0\n",
       "493         0  71.0   49.5042        0                  71.0\n",
       "545         0  64.0   26.0000        0                  64.0\n",
       "555         0  62.0   26.5500        0                  62.0\n",
       "570         1  62.0   10.5000        0                  62.0\n",
       "587         1  60.0   79.2000        0                  60.0\n",
       "625         0  61.0   32.3208        0                  61.0\n",
       "626         0  57.0   12.3500        0                  57.0\n",
       "630         1  80.0   30.0000        0                  80.0\n",
       "647         1  56.0   35.5000        0                  56.0\n",
       "659         0  58.0  113.2750        0                  58.0\n",
       "672         0  70.0   10.5000        0                  70.0\n",
       "684         0  60.0   39.0000        0                  60.0\n",
       "694         0  60.0   26.5500        0                  60.0\n",
       "745         0  70.0   71.0000        0                  70.0\n",
       "772         0  57.0   10.5000        0                  57.0\n",
       "829         1  62.0   80.0000        0                  62.0\n",
       "851         0  74.0    7.7750        0                  74.0\n",
       "879         1  56.0   83.1583        0                  56.0"
      ]
     },
     "execution_count": 65,
     "metadata": {},
     "output_type": "execute_result"
    }
   ],
   "source": [
    "df[df['Age']>54.5]"
   ]
  },
  {
   "cell_type": "code",
   "execution_count": 97,
   "id": "7fdbcff8",
   "metadata": {},
   "outputs": [
    {
     "data": {
      "text/plain": [
       "<AxesSubplot:>"
      ]
     },
     "execution_count": 97,
     "metadata": {},
     "output_type": "execute_result"
    },
    {
     "data": {
      "image/png": "[encoded data removed]",
      "text/plain": [
       "<Figure size 432x288 with 1 Axes>"
      ]
     },
     "metadata": {},
     "output_type": "display_data"
    }
   ],
   "source": [
    "df2['Age'].hist(bins=50)"
   ]
  },
  {
   "cell_type": "code",
   "execution_count": 98,
   "id": "6d450592",
   "metadata": {},
   "outputs": [
    {
     "data": {
      "text/plain": [
       "<AxesSubplot:>"
      ]
     },
     "execution_count": 98,
     "metadata": {},
     "output_type": "execute_result"
    },
    {
     "data": {
      "image/png": "[encoded data removed]",
      "text/plain": [
       "<Figure size 432x288 with 1 Axes>"
      ]
     },
     "metadata": {},
     "output_type": "display_data"
    }
   ],
   "source": [
    "df2['Age_end_distribution'].hist(bins=50)"
   ]
  },
  {
   "cell_type": "code",
   "execution_count": 99,
   "id": "22df4014",
   "metadata": {},
   "outputs": [
    {
     "name": "stderr",
     "output_type": "stream",
     "text": [
      "C:\\Users\\HP\\anaconda3\\lib\\site-packages\\seaborn\\_decorators.py:36: FutureWarning: Pass the following variable as a keyword arg: x. From version 0.12, the only valid positional argument will be `data`, and passing other arguments without an explicit keyword will result in an error or misinterpretation.\n",
      "  warnings.warn(\n"
     ]
    },
    {
     "data": {
      "text/plain": [
       "<AxesSubplot:xlabel='Age_end_distribution'>"
      ]
     },
     "execution_count": 99,
     "metadata": {},
     "output_type": "execute_result"
    },
    {
     "data": {
      "image/png": "[encoded data removed]",
      "text/plain": [
       "<Figure size 432x288 with 1 Axes>"
      ]
     },
     "metadata": {},
     "output_type": "display_data"
    }
   ],
   "source": [
    "sns.boxplot('Age_end_distribution',data=df2)"
   ]
  },
  {
   "cell_type": "code",
   "execution_count": 100,
   "id": "b916d52a",
   "metadata": {},
   "outputs": [
    {
     "data": {
      "text/html": [
       "<div>\n",
       "<style scoped>\n",
       "    .dataframe tbody tr th:only-of-type {\n",
       "        vertical-align: middle;\n",
       "    }\n",
       "\n",
       "    .dataframe tbody tr th {\n",
       "        vertical-align: top;\n",
       "    }\n",
       "\n",
       "    .dataframe thead th {\n",
       "        text-align: right;\n",
       "    }\n",
       "</style>\n",
       "<table border=\"1\" class=\"dataframe\">\n",
       "  <thead>\n",
       "    <tr style=\"text-align: right;\">\n",
       "      <th></th>\n",
       "      <th>Survived</th>\n",
       "      <th>Age</th>\n",
       "      <th>Fare</th>\n",
       "    </tr>\n",
       "  </thead>\n",
       "  <tbody>\n",
       "    <tr>\n",
       "      <th>0</th>\n",
       "      <td>0</td>\n",
       "      <td>22.0</td>\n",
       "      <td>7.2500</td>\n",
       "    </tr>\n",
       "    <tr>\n",
       "      <th>1</th>\n",
       "      <td>1</td>\n",
       "      <td>38.0</td>\n",
       "      <td>71.2833</td>\n",
       "    </tr>\n",
       "    <tr>\n",
       "      <th>2</th>\n",
       "      <td>1</td>\n",
       "      <td>26.0</td>\n",
       "      <td>7.9250</td>\n",
       "    </tr>\n",
       "    <tr>\n",
       "      <th>3</th>\n",
       "      <td>1</td>\n",
       "      <td>35.0</td>\n",
       "      <td>53.1000</td>\n",
       "    </tr>\n",
       "    <tr>\n",
       "      <th>4</th>\n",
       "      <td>0</td>\n",
       "      <td>35.0</td>\n",
       "      <td>8.0500</td>\n",
       "    </tr>\n",
       "  </tbody>\n",
       "</table>\n",
       "</div>"
      ],
      "text/plain": [
       "   Survived   Age     Fare\n",
       "0         0  22.0   7.2500\n",
       "1         1  38.0  71.2833\n",
       "2         1  26.0   7.9250\n",
       "3         1  35.0  53.1000\n",
       "4         0  35.0   8.0500"
      ]
     },
     "execution_count": 100,
     "metadata": {},
     "output_type": "execute_result"
    }
   ],
   "source": [
    "import pandas as pd\n",
    "df3=pd.read_csv('titanic_train.csv', usecols=['Age','Fare','Survived'])\n",
    "df3.head()"
   ]
  },
  {
   "cell_type": "code",
   "execution_count": 101,
   "id": "3a064e2d",
   "metadata": {},
   "outputs": [],
   "source": [
    "def impute_nan(df3,variable,median,extreme):\n",
    "    df3[variable+\"_end_distribution\"]=df3[variable].fillna(extreme)\n",
    "    df3[variable].fillna(median,inplace=True)"
   ]
  },
  {
   "cell_type": "code",
   "execution_count": 102,
   "id": "d1101fad",
   "metadata": {},
   "outputs": [
    {
     "data": {
      "text/html": [
       "<div>\n",
       "<style scoped>\n",
       "    .dataframe tbody tr th:only-of-type {\n",
       "        vertical-align: middle;\n",
       "    }\n",
       "\n",
       "    .dataframe tbody tr th {\n",
       "        vertical-align: top;\n",
       "    }\n",
       "\n",
       "    .dataframe thead th {\n",
       "        text-align: right;\n",
       "    }\n",
       "</style>\n",
       "<table border=\"1\" class=\"dataframe\">\n",
       "  <thead>\n",
       "    <tr style=\"text-align: right;\">\n",
       "      <th></th>\n",
       "      <th>Survived</th>\n",
       "      <th>Age</th>\n",
       "      <th>Fare</th>\n",
       "      <th>Age_end_distribution</th>\n",
       "    </tr>\n",
       "  </thead>\n",
       "  <tbody>\n",
       "    <tr>\n",
       "      <th>0</th>\n",
       "      <td>0</td>\n",
       "      <td>22.0</td>\n",
       "      <td>7.2500</td>\n",
       "      <td>22.0</td>\n",
       "    </tr>\n",
       "    <tr>\n",
       "      <th>1</th>\n",
       "      <td>1</td>\n",
       "      <td>38.0</td>\n",
       "      <td>71.2833</td>\n",
       "      <td>38.0</td>\n",
       "    </tr>\n",
       "    <tr>\n",
       "      <th>2</th>\n",
       "      <td>1</td>\n",
       "      <td>26.0</td>\n",
       "      <td>7.9250</td>\n",
       "      <td>26.0</td>\n",
       "    </tr>\n",
       "    <tr>\n",
       "      <th>3</th>\n",
       "      <td>1</td>\n",
       "      <td>35.0</td>\n",
       "      <td>53.1000</td>\n",
       "      <td>35.0</td>\n",
       "    </tr>\n",
       "    <tr>\n",
       "      <th>4</th>\n",
       "      <td>0</td>\n",
       "      <td>35.0</td>\n",
       "      <td>8.0500</td>\n",
       "      <td>35.0</td>\n",
       "    </tr>\n",
       "  </tbody>\n",
       "</table>\n",
       "</div>"
      ],
      "text/plain": [
       "   Survived   Age     Fare  Age_end_distribution\n",
       "0         0  22.0   7.2500                  22.0\n",
       "1         1  38.0  71.2833                  38.0\n",
       "2         1  26.0   7.9250                  26.0\n",
       "3         1  35.0  53.1000                  35.0\n",
       "4         0  35.0   8.0500                  35.0"
      ]
     },
     "execution_count": 102,
     "metadata": {},
     "output_type": "execute_result"
    }
   ],
   "source": [
    "extreme=df3.Age.mean()+3*df3.Age.std()\n",
    "impute_nan(df3,'Age',df3.Age.median(),extreme)\n",
    "df3.head()"
   ]
  },
  {
   "cell_type": "code",
   "execution_count": 105,
   "id": "043e8ff0",
   "metadata": {},
   "outputs": [
    {
     "data": {
      "text/plain": [
       "<AxesSubplot:>"
      ]
     },
     "execution_count": 105,
     "metadata": {},
     "output_type": "execute_result"
    },
    {
     "data": {
      "image/png": "[encoded data removed]",
      "text/plain": [
       "<Figure size 432x288 with 1 Axes>"
      ]
     },
     "metadata": {},
     "output_type": "display_data"
    }
   ],
   "source": [
    "df3['Age'].hist(bins=50)"
   ]
  },
  {
   "cell_type": "code",
   "execution_count": 106,
   "id": "40725ecf",
   "metadata": {},
   "outputs": [
    {
     "data": {
      "text/plain": [
       "<AxesSubplot:>"
      ]
     },
     "execution_count": 106,
     "metadata": {},
     "output_type": "execute_result"
    },
    {
     "data": {
      "image/png": "[encoded data removed]",
      "text/plain": [
       "<Figure size 432x288 with 1 Axes>"
      ]
     },
     "metadata": {},
     "output_type": "display_data"
    }
   ],
   "source": [
    "df3['Age_end_distribution'].hist(bins=50)"
   ]
  },
  {
   "cell_type": "code",
   "execution_count": 107,
   "id": "99e3e13d",
   "metadata": {},
   "outputs": [
    {
     "name": "stderr",
     "output_type": "stream",
     "text": [
      "C:\\Users\\HP\\anaconda3\\lib\\site-packages\\seaborn\\_decorators.py:36: FutureWarning: Pass the following variable as a keyword arg: x. From version 0.12, the only valid positional argument will be `data`, and passing other arguments without an explicit keyword will result in an error or misinterpretation.\n",
      "  warnings.warn(\n"
     ]
    },
    {
     "data": {
      "text/plain": [
       "<AxesSubplot:xlabel='Age_end_distribution'>"
      ]
     },
     "execution_count": 107,
     "metadata": {},
     "output_type": "execute_result"
    },
    {
     "data": {
      "image/png": "[encoded data removed]",
      "text/plain": [
       "<Figure size 432x288 with 1 Axes>"
      ]
     },
     "metadata": {},
     "output_type": "display_data"
    }
   ],
   "source": [
    "sns.boxplot(df3['Age_end_distribution'])"
   ]
  },
  {
   "cell_type": "code",
   "execution_count": null,
   "id": "f53e15c7",
   "metadata": {},
   "outputs": [],
   "source": []
  }
 ],
 "metadata": {
  "kernelspec": {
   "display_name": "Python 3 (ipykernel)",
   "language": "python",
   "name": "python3"
  },
  "language_info": {
   "codemirror_mode": {
    "name": "ipython",
    "version": 3
   },
   "file_extension": ".py",
   "mimetype": "text/x-python",
   "name": "python",
   "nbconvert_exporter": "python",
   "pygments_lexer": "ipython3",
   "version": "3.9.12"
  }
 },
 "nbformat": 4,
 "nbformat_minor": 5
}
