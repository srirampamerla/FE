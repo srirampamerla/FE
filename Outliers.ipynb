{
 "cells": [
  {
   "cell_type": "markdown",
   "metadata": {},
   "source": [
    "# Discussion Related With Outliers And Impact On Machine Learning!!"
   ]
  },
  {
   "cell_type": "markdown",
   "metadata": {},
   "source": [
    "##### Which Machine LEarning Models Are Sensitive To Outliers?\n",
    "1. Naivye Bayes Classifier--- Not Sensitive To Outliers\n",
    "2. SVM--------                Not Sensitive To Outliers          \n",
    "3. Linear Regression----------  Sensitive To Outliers\n",
    "4. Logistic Regression-------   Sensitive To Outliers\n",
    "5. Decision Tree Regressor or Classifier---- Not Sensitive\n",
    "6. Ensemble(RF,XGboost,GB)------- Not Sensitive\n",
    "7. KNN--------------------------- Not Sensitive \n",
    "8. Kmeans------------------------ Sensitive\n",
    "9. Hierarichal------------------- Sensitive \n",
    "10. PCA-------------------------- Sensitive # varience is required . if u have outlier we cannot calculate the PCA(Dimension reduce)\n",
    "11. Neural Networks-------------- Sensitive\n",
    " \n",
    "All the unsupervised techniqes are senstive to outliers"
   ]
  },
  {
   "cell_type": "code",
   "execution_count": 8,
   "metadata": {},
   "outputs": [],
   "source": [
    "import pandas as pd"
   ]
  },
  {
   "cell_type": "code",
   "execution_count": 31,
   "metadata": {},
   "outputs": [
    {
     "data": {
      "text/html": [
       "<div>\n",
       "<style scoped>\n",
       "    .dataframe tbody tr th:only-of-type {\n",
       "        vertical-align: middle;\n",
       "    }\n",
       "\n",
       "    .dataframe tbody tr th {\n",
       "        vertical-align: top;\n",
       "    }\n",
       "\n",
       "    .dataframe thead th {\n",
       "        text-align: right;\n",
       "    }\n",
       "</style>\n",
       "<table border=\"1\" class=\"dataframe\">\n",
       "  <thead>\n",
       "    <tr style=\"text-align: right;\">\n",
       "      <th></th>\n",
       "      <th>PassengerId</th>\n",
       "      <th>Survived</th>\n",
       "      <th>Pclass</th>\n",
       "      <th>Name</th>\n",
       "      <th>Sex</th>\n",
       "      <th>Age</th>\n",
       "      <th>SibSp</th>\n",
       "      <th>Parch</th>\n",
       "      <th>Ticket</th>\n",
       "      <th>Fare</th>\n",
       "      <th>Cabin</th>\n",
       "      <th>Embarked</th>\n",
       "    </tr>\n",
       "  </thead>\n",
       "  <tbody>\n",
       "    <tr>\n",
       "      <th>0</th>\n",
       "      <td>1</td>\n",
       "      <td>0</td>\n",
       "      <td>3</td>\n",
       "      <td>Braund, Mr. Owen Harris</td>\n",
       "      <td>male</td>\n",
       "      <td>22.0</td>\n",
       "      <td>1</td>\n",
       "      <td>0</td>\n",
       "      <td>A/5 21171</td>\n",
       "      <td>7.2500</td>\n",
       "      <td>NaN</td>\n",
       "      <td>S</td>\n",
       "    </tr>\n",
       "    <tr>\n",
       "      <th>1</th>\n",
       "      <td>2</td>\n",
       "      <td>1</td>\n",
       "      <td>1</td>\n",
       "      <td>Cumings, Mrs. John Bradley (Florence Briggs Th...</td>\n",
       "      <td>female</td>\n",
       "      <td>38.0</td>\n",
       "      <td>1</td>\n",
       "      <td>0</td>\n",
       "      <td>PC 17599</td>\n",
       "      <td>71.2833</td>\n",
       "      <td>C85</td>\n",
       "      <td>C</td>\n",
       "    </tr>\n",
       "    <tr>\n",
       "      <th>2</th>\n",
       "      <td>3</td>\n",
       "      <td>1</td>\n",
       "      <td>3</td>\n",
       "      <td>Heikkinen, Miss. Laina</td>\n",
       "      <td>female</td>\n",
       "      <td>26.0</td>\n",
       "      <td>0</td>\n",
       "      <td>0</td>\n",
       "      <td>STON/O2. 3101282</td>\n",
       "      <td>7.9250</td>\n",
       "      <td>NaN</td>\n",
       "      <td>S</td>\n",
       "    </tr>\n",
       "    <tr>\n",
       "      <th>3</th>\n",
       "      <td>4</td>\n",
       "      <td>1</td>\n",
       "      <td>1</td>\n",
       "      <td>Futrelle, Mrs. Jacques Heath (Lily May Peel)</td>\n",
       "      <td>female</td>\n",
       "      <td>35.0</td>\n",
       "      <td>1</td>\n",
       "      <td>0</td>\n",
       "      <td>113803</td>\n",
       "      <td>53.1000</td>\n",
       "      <td>C123</td>\n",
       "      <td>S</td>\n",
       "    </tr>\n",
       "    <tr>\n",
       "      <th>4</th>\n",
       "      <td>5</td>\n",
       "      <td>0</td>\n",
       "      <td>3</td>\n",
       "      <td>Allen, Mr. William Henry</td>\n",
       "      <td>male</td>\n",
       "      <td>35.0</td>\n",
       "      <td>0</td>\n",
       "      <td>0</td>\n",
       "      <td>373450</td>\n",
       "      <td>8.0500</td>\n",
       "      <td>NaN</td>\n",
       "      <td>S</td>\n",
       "    </tr>\n",
       "  </tbody>\n",
       "</table>\n",
       "</div>"
      ],
      "text/plain": [
       "   PassengerId  Survived  Pclass  \\\n",
       "0            1         0       3   \n",
       "1            2         1       1   \n",
       "2            3         1       3   \n",
       "3            4         1       1   \n",
       "4            5         0       3   \n",
       "\n",
       "                                                Name     Sex   Age  SibSp  \\\n",
       "0                            Braund, Mr. Owen Harris    male  22.0      1   \n",
       "1  Cumings, Mrs. John Bradley (Florence Briggs Th...  female  38.0      1   \n",
       "2                             Heikkinen, Miss. Laina  female  26.0      0   \n",
       "3       Futrelle, Mrs. Jacques Heath (Lily May Peel)  female  35.0      1   \n",
       "4                           Allen, Mr. William Henry    male  35.0      0   \n",
       "\n",
       "   Parch            Ticket     Fare Cabin Embarked  \n",
       "0      0         A/5 21171   7.2500   NaN        S  \n",
       "1      0          PC 17599  71.2833   C85        C  \n",
       "2      0  STON/O2. 3101282   7.9250   NaN        S  \n",
       "3      0            113803  53.1000  C123        S  \n",
       "4      0            373450   8.0500   NaN        S  "
      ]
     },
     "execution_count": 31,
     "metadata": {},
     "output_type": "execute_result"
    }
   ],
   "source": [
    "df=pd.read_csv('titanic_train.csv')\n",
    "df.head()"
   ]
  },
  {
   "cell_type": "code",
   "execution_count": 10,
   "metadata": {},
   "outputs": [
    {
     "data": {
      "text/plain": [
       "(891, 12)"
      ]
     },
     "execution_count": 10,
     "metadata": {},
     "output_type": "execute_result"
    }
   ],
   "source": [
    "df.shape"
   ]
  },
  {
   "cell_type": "code",
   "execution_count": 4,
   "metadata": {},
   "outputs": [
    {
     "data": {
      "text/plain": [
       "177"
      ]
     },
     "execution_count": 4,
     "metadata": {},
     "output_type": "execute_result"
    }
   ],
   "source": [
    "df['Age'].isnull().sum()"
   ]
  },
  {
   "cell_type": "code",
   "execution_count": 13,
   "metadata": {},
   "outputs": [
    {
     "data": {
      "text/plain": [
       "714"
      ]
     },
     "execution_count": 13,
     "metadata": {},
     "output_type": "execute_result"
    }
   ],
   "source": [
    "df['Age'].notnull().sum()"
   ]
  },
  {
   "cell_type": "code",
   "execution_count": 14,
   "metadata": {},
   "outputs": [],
   "source": [
    "import seaborn as sns"
   ]
  },
  {
   "cell_type": "code",
   "execution_count": 15,
   "metadata": {},
   "outputs": [
    {
     "data": {
      "text/plain": [
       "0      22.0\n",
       "1      38.0\n",
       "2      26.0\n",
       "3      35.0\n",
       "4      35.0\n",
       "       ... \n",
       "885    39.0\n",
       "886    27.0\n",
       "887    19.0\n",
       "889    26.0\n",
       "890    32.0\n",
       "Name: Age, Length: 714, dtype: float64"
      ]
     },
     "execution_count": 15,
     "metadata": {},
     "output_type": "execute_result"
    }
   ],
   "source": [
    "df['Age'].dropna()"
   ]
  },
  {
   "cell_type": "code",
   "execution_count": 17,
   "metadata": {},
   "outputs": [
    {
     "data": {
      "text/plain": [
       "(891,)"
      ]
     },
     "execution_count": 17,
     "metadata": {},
     "output_type": "execute_result"
    }
   ],
   "source": [
    "df['Age'].shape"
   ]
  },
  {
   "cell_type": "code",
   "execution_count": 16,
   "metadata": {},
   "outputs": [
    {
     "name": "stderr",
     "output_type": "stream",
     "text": [
      "C:\\Users\\HP\\anaconda3\\lib\\site-packages\\seaborn\\distributions.py:2619: FutureWarning: `distplot` is a deprecated function and will be removed in a future version. Please adapt your code to use either `displot` (a figure-level function with similar flexibility) or `histplot` (an axes-level function for histograms).\n",
      "  warnings.warn(msg, FutureWarning)\n"
     ]
    },
    {
     "data": {
      "text/plain": [
       "<AxesSubplot:xlabel='Age', ylabel='Density'>"
      ]
     },
     "execution_count": 16,
     "metadata": {},
     "output_type": "execute_result"
    },
    {
     "data": {
      "image/png": "[encoded data removed]",
      "text/plain": [
       "<Figure size 432x288 with 1 Axes>"
      ]
     },
     "metadata": {
      "needs_background": "light"
     },
     "output_type": "display_data"
    }
   ],
   "source": [
    "sns.distplot(df['Age'].dropna(),bins=20,kde=True)"
   ]
  },
  {
   "cell_type": "code",
   "execution_count": 18,
   "metadata": {},
   "outputs": [
    {
     "name": "stderr",
     "output_type": "stream",
     "text": [
      "C:\\Users\\HP\\anaconda3\\lib\\site-packages\\seaborn\\distributions.py:2619: FutureWarning: `distplot` is a deprecated function and will be removed in a future version. Please adapt your code to use either `displot` (a figure-level function with similar flexibility) or `histplot` (an axes-level function for histograms).\n",
      "  warnings.warn(msg, FutureWarning)\n"
     ]
    },
    {
     "data": {
      "text/plain": [
       "<AxesSubplot:xlabel='Age', ylabel='Density'>"
      ]
     },
     "execution_count": 18,
     "metadata": {},
     "output_type": "execute_result"
    },
    {
     "data": {
      "image/png": "[encoded data removed]",
      "text/plain": [
       "<Figure size 432x288 with 1 Axes>"
      ]
     },
     "metadata": {
      "needs_background": "light"
     },
     "output_type": "display_data"
    }
   ],
   "source": [
    "sns.distplot(df['Age'].fillna(100))"
   ]
  },
  {
   "cell_type": "markdown",
   "metadata": {},
   "source": [
    "# Gaussian Distribution\n"
   ]
  },
  {
   "cell_type": "code",
   "execution_count": 21,
   "metadata": {},
   "outputs": [
    {
     "data": {
      "text/plain": [
       "Text(0, 0.5, 'No of passenger')"
      ]
     },
     "execution_count": 21,
     "metadata": {},
     "output_type": "execute_result"
    },
    {
     "data": {
      "image/png": "[encoded data removed]",
      "text/plain": [
       "<Figure size 432x288 with 1 Axes>"
      ]
     },
     "metadata": {
      "needs_background": "light"
     },
     "output_type": "display_data"
    }
   ],
   "source": [
    "figure=df.Age.hist(bins=50)\n",
    "figure.set_title('Age')\n",
    "figure.set_xlabel('Age')\n",
    "figure.set_ylabel('No of passenger')"
   ]
  },
  {
   "cell_type": "code",
   "execution_count": 24,
   "metadata": {},
   "outputs": [
    {
     "data": {
      "image/png": "[encoded data removed]",
      "text/plain": [
       "<Figure size 432x288 with 1 Axes>"
      ]
     },
     "metadata": {
      "needs_background": "light"
     },
     "output_type": "display_data"
    }
   ],
   "source": [
    "figure=df.boxplot(column='Age')"
   ]
  },
  {
   "cell_type": "code",
   "execution_count": 38,
   "metadata": {},
   "outputs": [
    {
     "name": "stdout",
     "output_type": "stream",
     "text": [
      "Minimum: 0.42\n",
      "Maximum: 80.0\n",
      "Q1: 20.125\n",
      "Q3: 38.0\n",
      "IQR: 17.875\n",
      "Lower Fence: -6.6875\n",
      "Upper Fence: 64.8125\n",
      "Outliers: 33     66.0\n",
      "54     65.0\n",
      "96     71.0\n",
      "116    70.5\n",
      "280    65.0\n",
      "456    65.0\n",
      "493    71.0\n",
      "630    80.0\n",
      "672    70.0\n",
      "745    70.0\n",
      "851    74.0\n",
      "Name: Age, dtype: float64\n"
     ]
    },
    {
     "data": {
      "text/plain": [
       "Text(0, 0.5, 'Age')"
      ]
     },
     "execution_count": 38,
     "metadata": {},
     "output_type": "execute_result"
    },
    {
     "data": {
      "image/png": "[encoded data removed]",
      "text/plain": [
       "<Figure size 432x288 with 1 Axes>"
      ]
     },
     "metadata": {
      "needs_background": "light"
     },
     "output_type": "display_data"
    }
   ],
   "source": [
    "import pandas as pd\n",
    "import numpy as np\n",
    "import matplotlib.pyplot as plt\n",
    "\n",
    "# Example DataFrame\n",
    "# Convert 'Age' column to a numpy array\n",
    "# /ages = df['Age'].values\n",
    "\n",
    "# Calculate quartiles using numpy\n",
    "Q1 = df['Age'].quantile(0.25) #np.percentile(ages, 25)\n",
    "Q3 = df['Age'].quantile(0.75) #np.percentile(ages, 75)\n",
    "IQR = Q3 - Q1\n",
    "\n",
    "lower_fence = Q1 - 1.5 * IQR\n",
    "upper_fence = Q3 + 1.5 * IQR\n",
    "\n",
    "outliers = df[(df['Age'] < lower_fence) | (df['Age'] > upper_fence)]['Age']\n",
    "\n",
    "# Calculate min and max\n",
    "min_age = df['Age'].min()\n",
    "max_age = df['Age'].max()\n",
    "\n",
    "# Print box plot statistics\n",
    "print(f\"Minimum: {min_age}\")\n",
    "print(f\"Maximum: {max_age}\")\n",
    "print(f\"Q1: {Q1}\")\n",
    "print(f\"Q3: {Q3}\")\n",
    "print(f\"IQR: {IQR}\")\n",
    "print(f\"Lower Fence: {lower_fence}\")\n",
    "print(f\"Upper Fence: {upper_fence}\")\n",
    "print(f\"Outliers: {outliers}\")\n",
    "\n",
    "boxplot = df.boxplot(column='Age')\n",
    "\n",
    "# Add title and labels\n",
    "plt.title('Age Distribution Box Plot')\n",
    "plt.ylabel('Age')"
   ]
  },
  {
   "cell_type": "code",
   "execution_count": 41,
   "metadata": {
    "scrolled": true
   },
   "outputs": [
    {
     "data": {
      "text/plain": [
       "count    714.000000\n",
       "mean      29.699118\n",
       "std       14.526497\n",
       "min        0.420000\n",
       "25%       20.125000\n",
       "50%       28.000000\n",
       "75%       38.000000\n",
       "max       80.000000\n",
       "Name: Age, dtype: float64"
      ]
     },
     "execution_count": 41,
     "metadata": {},
     "output_type": "execute_result"
    }
   ],
   "source": [
    "df['Age'].describe()"
   ]
  },
  {
   "cell_type": "markdown",
   "metadata": {},
   "source": [
    "#### If The Data Is Normally Distributed We use this"
   ]
  },
  {
   "cell_type": "code",
   "execution_count": 42,
   "metadata": {},
   "outputs": [
    {
     "name": "stdout",
     "output_type": "stream",
     "text": [
      "lower_boundary : -13.88037434994331\n",
      "uppper_boundary : 73.27860964406095\n",
      "Mean : 29.69911764705882\n"
     ]
    },
    {
     "data": {
      "text/plain": [
       "(None, None, None)"
      ]
     },
     "execution_count": 42,
     "metadata": {},
     "output_type": "execute_result"
    }
   ],
   "source": [
    "##### Assuming Age follows A Gaussian Distribution we will calculate the boundaries which differentiates the outliers\n",
    "## after this std we can consider as the outliers\n",
    "uppper_boundary=df['Age'].mean() + 3* df['Age'].std()\n",
    "lower_boundary=df['Age'].mean() - 3* df['Age'].std()\n",
    "print(\"lower_boundary :\",lower_boundary), print(\"uppper_boundary :\",uppper_boundary),print(\"Mean :\",df['Age'].mean())"
   ]
  },
  {
   "cell_type": "markdown",
   "metadata": {},
   "source": [
    "#### If Features Are Skewed We Use the below Technique"
   ]
  },
  {
   "cell_type": "code",
   "execution_count": 43,
   "metadata": {},
   "outputs": [
    {
     "data": {
      "text/plain": [
       "Text(0, 0.5, 'No of passenger')"
      ]
     },
     "execution_count": 43,
     "metadata": {},
     "output_type": "execute_result"
    },
    {
     "data": {
      "image/png": "[encoded data removed]",
      "text/plain": [
       "<Figure size 432x288 with 1 Axes>"
      ]
     },
     "metadata": {
      "needs_background": "light"
     },
     "output_type": "display_data"
    }
   ],
   "source": [
    "figure=df.Fare.hist(bins=50)\n",
    "figure.set_title('Fare')\n",
    "figure.set_xlabel('Fare')\n",
    "figure.set_ylabel('No of passenger')"
   ]
  },
  {
   "cell_type": "code",
   "execution_count": 44,
   "metadata": {},
   "outputs": [
    {
     "data": {
      "text/plain": [
       "<AxesSubplot:>"
      ]
     },
     "execution_count": 44,
     "metadata": {},
     "output_type": "execute_result"
    },
    {
     "data": {
      "image/png": "[encoded data removed]",
      "text/plain": [
       "<Figure size 432x288 with 1 Axes>"
      ]
     },
     "metadata": {
      "needs_background": "light"
     },
     "output_type": "display_data"
    }
   ],
   "source": [
    "df.boxplot(column=\"Fare\")"
   ]
  },
  {
   "cell_type": "code",
   "execution_count": 45,
   "metadata": {},
   "outputs": [
    {
     "data": {
      "text/plain": [
       "count    891.000000\n",
       "mean      32.204208\n",
       "std       49.693429\n",
       "min        0.000000\n",
       "25%        7.910400\n",
       "50%       14.454200\n",
       "75%       31.000000\n",
       "max      512.329200\n",
       "Name: Fare, dtype: float64"
      ]
     },
     "execution_count": 45,
     "metadata": {},
     "output_type": "execute_result"
    }
   ],
   "source": [
    "df['Fare'].describe()"
   ]
  },
  {
   "cell_type": "code",
   "execution_count": 48,
   "metadata": {},
   "outputs": [
    {
     "data": {
      "text/plain": [
       "23.0896"
      ]
     },
     "execution_count": 48,
     "metadata": {},
     "output_type": "execute_result"
    }
   ],
   "source": [
    "#### Lets compute the Interquantile range to calculate the boundaries\n",
    "IQR=df.Fare.quantile(0.75)-df.Fare.quantile(0.25)\n",
    "IQR"
   ]
  },
  {
   "cell_type": "code",
   "execution_count": 49,
   "metadata": {},
   "outputs": [
    {
     "name": "stdout",
     "output_type": "stream",
     "text": [
      "lower_bridge: -26.724\n",
      "upper_bridge: 65.6344\n"
     ]
    },
    {
     "data": {
      "text/plain": [
       "(None, None)"
      ]
     },
     "execution_count": 49,
     "metadata": {},
     "output_type": "execute_result"
    }
   ],
   "source": [
    "lower_bridge=df['Fare'].quantile(0.25)-(IQR*1.5)\n",
    "upper_bridge=df['Fare'].quantile(0.75)+(IQR*1.5)\n",
    "print(\"lower_bridge:\",lower_bridge), print(\"upper_bridge:\",upper_bridge)"
   ]
  },
  {
   "cell_type": "code",
   "execution_count": 50,
   "metadata": {},
   "outputs": [
    {
     "name": "stdout",
     "output_type": "stream",
     "text": [
      "lower_bridge: -61.358399999999996\n",
      "upper_bridge: 100.2688\n"
     ]
    },
    {
     "data": {
      "text/plain": [
       "(None, None)"
      ]
     },
     "execution_count": 50,
     "metadata": {},
     "output_type": "execute_result"
    }
   ],
   "source": [
    "#### Extreme outliers\n",
    "lower_bridge=df['Fare'].quantile(0.25)-(IQR*3)\n",
    "upper_bridge=df['Fare'].quantile(0.75)+(IQR*3)\n",
    "print(\"lower_bridge:\",lower_bridge), print(\"upper_bridge:\",upper_bridge)"
   ]
  },
  {
   "cell_type": "raw",
   "metadata": {},
   "source": [
    "# If it follows gaussian distribution we can use below formula( after third moves of std we can coinsder the Outliers\n",
    "uppper_boundary=mean+3*std\n",
    "lower_boundary=mean-3*std\n",
    "mean()\n",
    "# If it follows left or right skewed we can use below formula(we can cobnsider extreme outliers)\n",
    "lower_bridge=quantile(0.25)-(IQR*3)\n",
    "upper_bridge=quantile(0.75)+(IQR*3)\n",
    "IQR=quantile(0.75)-quantile(0.25)"
   ]
  },
  {
   "cell_type": "code",
   "execution_count": 59,
   "metadata": {},
   "outputs": [
    {
     "data": {
      "text/html": [
       "<div>\n",
       "<style scoped>\n",
       "    .dataframe tbody tr th:only-of-type {\n",
       "        vertical-align: middle;\n",
       "    }\n",
       "\n",
       "    .dataframe tbody tr th {\n",
       "        vertical-align: top;\n",
       "    }\n",
       "\n",
       "    .dataframe thead th {\n",
       "        text-align: right;\n",
       "    }\n",
       "</style>\n",
       "<table border=\"1\" class=\"dataframe\">\n",
       "  <thead>\n",
       "    <tr style=\"text-align: right;\">\n",
       "      <th></th>\n",
       "      <th>PassengerId</th>\n",
       "      <th>Survived</th>\n",
       "      <th>Pclass</th>\n",
       "      <th>Name</th>\n",
       "      <th>Sex</th>\n",
       "      <th>Age</th>\n",
       "      <th>SibSp</th>\n",
       "      <th>Parch</th>\n",
       "      <th>Ticket</th>\n",
       "      <th>Fare</th>\n",
       "      <th>Cabin</th>\n",
       "      <th>Embarked</th>\n",
       "    </tr>\n",
       "  </thead>\n",
       "  <tbody>\n",
       "    <tr>\n",
       "      <th>0</th>\n",
       "      <td>1</td>\n",
       "      <td>0</td>\n",
       "      <td>3</td>\n",
       "      <td>Braund, Mr. Owen Harris</td>\n",
       "      <td>male</td>\n",
       "      <td>22.0</td>\n",
       "      <td>1</td>\n",
       "      <td>0</td>\n",
       "      <td>A/5 21171</td>\n",
       "      <td>7.2500</td>\n",
       "      <td>NaN</td>\n",
       "      <td>S</td>\n",
       "    </tr>\n",
       "    <tr>\n",
       "      <th>1</th>\n",
       "      <td>2</td>\n",
       "      <td>1</td>\n",
       "      <td>1</td>\n",
       "      <td>Cumings, Mrs. John Bradley (Florence Briggs Th...</td>\n",
       "      <td>female</td>\n",
       "      <td>38.0</td>\n",
       "      <td>1</td>\n",
       "      <td>0</td>\n",
       "      <td>PC 17599</td>\n",
       "      <td>71.2833</td>\n",
       "      <td>C85</td>\n",
       "      <td>C</td>\n",
       "    </tr>\n",
       "    <tr>\n",
       "      <th>2</th>\n",
       "      <td>3</td>\n",
       "      <td>1</td>\n",
       "      <td>3</td>\n",
       "      <td>Heikkinen, Miss. Laina</td>\n",
       "      <td>female</td>\n",
       "      <td>26.0</td>\n",
       "      <td>0</td>\n",
       "      <td>0</td>\n",
       "      <td>STON/O2. 3101282</td>\n",
       "      <td>7.9250</td>\n",
       "      <td>NaN</td>\n",
       "      <td>S</td>\n",
       "    </tr>\n",
       "    <tr>\n",
       "      <th>3</th>\n",
       "      <td>4</td>\n",
       "      <td>1</td>\n",
       "      <td>1</td>\n",
       "      <td>Futrelle, Mrs. Jacques Heath (Lily May Peel)</td>\n",
       "      <td>female</td>\n",
       "      <td>35.0</td>\n",
       "      <td>1</td>\n",
       "      <td>0</td>\n",
       "      <td>113803</td>\n",
       "      <td>53.1000</td>\n",
       "      <td>C123</td>\n",
       "      <td>S</td>\n",
       "    </tr>\n",
       "    <tr>\n",
       "      <th>4</th>\n",
       "      <td>5</td>\n",
       "      <td>0</td>\n",
       "      <td>3</td>\n",
       "      <td>Allen, Mr. William Henry</td>\n",
       "      <td>male</td>\n",
       "      <td>35.0</td>\n",
       "      <td>0</td>\n",
       "      <td>0</td>\n",
       "      <td>373450</td>\n",
       "      <td>8.0500</td>\n",
       "      <td>NaN</td>\n",
       "      <td>S</td>\n",
       "    </tr>\n",
       "    <tr>\n",
       "      <th>...</th>\n",
       "      <td>...</td>\n",
       "      <td>...</td>\n",
       "      <td>...</td>\n",
       "      <td>...</td>\n",
       "      <td>...</td>\n",
       "      <td>...</td>\n",
       "      <td>...</td>\n",
       "      <td>...</td>\n",
       "      <td>...</td>\n",
       "      <td>...</td>\n",
       "      <td>...</td>\n",
       "      <td>...</td>\n",
       "    </tr>\n",
       "    <tr>\n",
       "      <th>886</th>\n",
       "      <td>887</td>\n",
       "      <td>0</td>\n",
       "      <td>2</td>\n",
       "      <td>Montvila, Rev. Juozas</td>\n",
       "      <td>male</td>\n",
       "      <td>27.0</td>\n",
       "      <td>0</td>\n",
       "      <td>0</td>\n",
       "      <td>211536</td>\n",
       "      <td>13.0000</td>\n",
       "      <td>NaN</td>\n",
       "      <td>S</td>\n",
       "    </tr>\n",
       "    <tr>\n",
       "      <th>887</th>\n",
       "      <td>888</td>\n",
       "      <td>1</td>\n",
       "      <td>1</td>\n",
       "      <td>Graham, Miss. Margaret Edith</td>\n",
       "      <td>female</td>\n",
       "      <td>19.0</td>\n",
       "      <td>0</td>\n",
       "      <td>0</td>\n",
       "      <td>112053</td>\n",
       "      <td>30.0000</td>\n",
       "      <td>B42</td>\n",
       "      <td>S</td>\n",
       "    </tr>\n",
       "    <tr>\n",
       "      <th>888</th>\n",
       "      <td>889</td>\n",
       "      <td>0</td>\n",
       "      <td>3</td>\n",
       "      <td>Johnston, Miss. Catherine Helen \"Carrie\"</td>\n",
       "      <td>female</td>\n",
       "      <td>NaN</td>\n",
       "      <td>1</td>\n",
       "      <td>2</td>\n",
       "      <td>W./C. 6607</td>\n",
       "      <td>23.4500</td>\n",
       "      <td>NaN</td>\n",
       "      <td>S</td>\n",
       "    </tr>\n",
       "    <tr>\n",
       "      <th>889</th>\n",
       "      <td>890</td>\n",
       "      <td>1</td>\n",
       "      <td>1</td>\n",
       "      <td>Behr, Mr. Karl Howell</td>\n",
       "      <td>male</td>\n",
       "      <td>26.0</td>\n",
       "      <td>0</td>\n",
       "      <td>0</td>\n",
       "      <td>111369</td>\n",
       "      <td>30.0000</td>\n",
       "      <td>C148</td>\n",
       "      <td>C</td>\n",
       "    </tr>\n",
       "    <tr>\n",
       "      <th>890</th>\n",
       "      <td>891</td>\n",
       "      <td>0</td>\n",
       "      <td>3</td>\n",
       "      <td>Dooley, Mr. Patrick</td>\n",
       "      <td>male</td>\n",
       "      <td>32.0</td>\n",
       "      <td>0</td>\n",
       "      <td>0</td>\n",
       "      <td>370376</td>\n",
       "      <td>7.7500</td>\n",
       "      <td>NaN</td>\n",
       "      <td>Q</td>\n",
       "    </tr>\n",
       "  </tbody>\n",
       "</table>\n",
       "<p>891 rows × 12 columns</p>\n",
       "</div>"
      ],
      "text/plain": [
       "     PassengerId  Survived  Pclass  \\\n",
       "0              1         0       3   \n",
       "1              2         1       1   \n",
       "2              3         1       3   \n",
       "3              4         1       1   \n",
       "4              5         0       3   \n",
       "..           ...       ...     ...   \n",
       "886          887         0       2   \n",
       "887          888         1       1   \n",
       "888          889         0       3   \n",
       "889          890         1       1   \n",
       "890          891         0       3   \n",
       "\n",
       "                                                  Name     Sex   Age  SibSp  \\\n",
       "0                              Braund, Mr. Owen Harris    male  22.0      1   \n",
       "1    Cumings, Mrs. John Bradley (Florence Briggs Th...  female  38.0      1   \n",
       "2                               Heikkinen, Miss. Laina  female  26.0      0   \n",
       "3         Futrelle, Mrs. Jacques Heath (Lily May Peel)  female  35.0      1   \n",
       "4                             Allen, Mr. William Henry    male  35.0      0   \n",
       "..                                                 ...     ...   ...    ...   \n",
       "886                              Montvila, Rev. Juozas    male  27.0      0   \n",
       "887                       Graham, Miss. Margaret Edith  female  19.0      0   \n",
       "888           Johnston, Miss. Catherine Helen \"Carrie\"  female   NaN      1   \n",
       "889                              Behr, Mr. Karl Howell    male  26.0      0   \n",
       "890                                Dooley, Mr. Patrick    male  32.0      0   \n",
       "\n",
       "     Parch            Ticket     Fare Cabin Embarked  \n",
       "0        0         A/5 21171   7.2500   NaN        S  \n",
       "1        0          PC 17599  71.2833   C85        C  \n",
       "2        0  STON/O2. 3101282   7.9250   NaN        S  \n",
       "3        0            113803  53.1000  C123        S  \n",
       "4        0            373450   8.0500   NaN        S  \n",
       "..     ...               ...      ...   ...      ...  \n",
       "886      0            211536  13.0000   NaN        S  \n",
       "887      0            112053  30.0000   B42        S  \n",
       "888      2        W./C. 6607  23.4500   NaN        S  \n",
       "889      0            111369  30.0000  C148        C  \n",
       "890      0            370376   7.7500   NaN        Q  \n",
       "\n",
       "[891 rows x 12 columns]"
      ]
     },
     "execution_count": 59,
     "metadata": {},
     "output_type": "execute_result"
    }
   ],
   "source": [
    "data=df.copy()\n",
    "data"
   ]
  },
  {
   "cell_type": "code",
   "execution_count": 56,
   "metadata": {},
   "outputs": [
    {
     "name": "stdout",
     "output_type": "stream",
     "text": [
      "     PassengerId  Survived  Pclass                                  Name  \\\n",
      "630          631         1       1  Barkworth, Mr. Algernon Henry Wilson   \n",
      "851          852         0       3                   Svensson, Mr. Johan   \n",
      "\n",
      "      Sex   Age  SibSp  Parch  Ticket    Fare Cabin Embarked  \n",
      "630  male  80.0      0      0   27042  30.000   A23        S  \n",
      "851  male  74.0      0      0  347060   7.775   NaN        S  \n"
     ]
    }
   ],
   "source": [
    "print(data[data['Age']>=73])\n",
    "#lower boundary is -ve. Ae cannot be negative we can cannot consider or change the value"
   ]
  },
  {
   "cell_type": "code",
   "execution_count": 54,
   "metadata": {},
   "outputs": [
    {
     "name": "stdout",
     "output_type": "stream",
     "text": [
      "     PassengerId  Survived  Pclass                                  Name  \\\n",
      "630          631         1       1  Barkworth, Mr. Algernon Henry Wilson   \n",
      "851          852         0       3                   Svensson, Mr. Johan   \n",
      "\n",
      "      Sex   Age  SibSp  Parch  Ticket    Fare Cabin Embarked  \n",
      "630  male  73.0      0      0   27042  30.000   A23        S  \n",
      "851  male  73.0      0      0  347060   7.775   NaN        S  \n"
     ]
    }
   ],
   "source": [
    "data.loc[data['Age']>=73,'Age']=73\n",
    "print(data[data['Age']>=73])"
   ]
  },
  {
   "cell_type": "code",
   "execution_count": 40,
   "metadata": {},
   "outputs": [
    {
     "data": {
      "text/plain": [
       "Text(0, 0.5, 'No of passenger')"
      ]
     },
     "execution_count": 40,
     "metadata": {},
     "output_type": "execute_result"
    },
    {
     "data": {
      "image/png": "[encoded data removed]",
      "text/plain": [
       "<Figure size 432x288 with 1 Axes>"
      ]
     },
     "metadata": {
      "needs_background": "light"
     },
     "output_type": "display_data"
    }
   ],
   "source": [
    "figure=data.Age.hist(bins=50)\n",
    "figure.set_title('Fare')\n",
    "figure.set_xlabel('Fare')\n",
    "figure.set_ylabel('No of passenger')"
   ]
  },
  {
   "cell_type": "code",
   "execution_count": 62,
   "metadata": {},
   "outputs": [
    {
     "name": "stdout",
     "output_type": "stream",
     "text": [
      "     PassengerId  Survived  Pclass  \\\n",
      "27            28         0       1   \n",
      "31            32         1       1   \n",
      "88            89         1       1   \n",
      "118          119         0       1   \n",
      "195          196         1       1   \n",
      "215          216         1       1   \n",
      "258          259         1       1   \n",
      "268          269         1       1   \n",
      "269          270         1       1   \n",
      "297          298         0       1   \n",
      "299          300         1       1   \n",
      "305          306         1       1   \n",
      "306          307         1       1   \n",
      "307          308         1       1   \n",
      "311          312         1       1   \n",
      "318          319         1       1   \n",
      "319          320         1       1   \n",
      "325          326         1       1   \n",
      "332          333         0       1   \n",
      "334          335         1       1   \n",
      "337          338         1       1   \n",
      "341          342         1       1   \n",
      "373          374         0       1   \n",
      "377          378         0       1   \n",
      "380          381         1       1   \n",
      "390          391         1       1   \n",
      "393          394         1       1   \n",
      "435          436         1       1   \n",
      "438          439         0       1   \n",
      "498          499         0       1   \n",
      "505          506         0       1   \n",
      "527          528         0       1   \n",
      "537          538         1       1   \n",
      "544          545         0       1   \n",
      "550          551         1       1   \n",
      "557          558         0       1   \n",
      "581          582         1       1   \n",
      "609          610         1       1   \n",
      "659          660         0       1   \n",
      "660          661         1       1   \n",
      "679          680         1       1   \n",
      "689          690         1       1   \n",
      "698          699         0       1   \n",
      "700          701         1       1   \n",
      "708          709         1       1   \n",
      "716          717         1       1   \n",
      "730          731         1       1   \n",
      "737          738         1       1   \n",
      "742          743         1       1   \n",
      "763          764         1       1   \n",
      "779          780         1       1   \n",
      "802          803         1       1   \n",
      "856          857         1       1   \n",
      "\n",
      "                                                  Name     Sex    Age  SibSp  \\\n",
      "27                      Fortune, Mr. Charles Alexander    male  19.00      3   \n",
      "31      Spencer, Mrs. William Augustus (Marie Eugenie)  female    NaN      1   \n",
      "88                          Fortune, Miss. Mabel Helen  female  23.00      3   \n",
      "118                           Baxter, Mr. Quigg Edmond    male  24.00      0   \n",
      "195                               Lurette, Miss. Elise  female  58.00      0   \n",
      "215                            Newell, Miss. Madeleine  female  31.00      1   \n",
      "258                                   Ward, Miss. Anna  female  35.00      0   \n",
      "268      Graham, Mrs. William Thompson (Edith Junkins)  female  58.00      0   \n",
      "269                             Bissette, Miss. Amelia  female  35.00      0   \n",
      "297                       Allison, Miss. Helen Loraine  female   2.00      1   \n",
      "299    Baxter, Mrs. James (Helene DeLaudeniere Chaput)  female  50.00      0   \n",
      "305                     Allison, Master. Hudson Trevor    male   0.92      1   \n",
      "306                            Fleming, Miss. Margaret  female    NaN      0   \n",
      "307  Penasco y Castellana, Mrs. Victor de Satode (M...  female  17.00      1   \n",
      "311                         Ryerson, Miss. Emily Borie  female  18.00      2   \n",
      "318                           Wick, Miss. Mary Natalie  female  31.00      0   \n",
      "319  Spedden, Mrs. Frederic Oakley (Margaretta Corn...  female  40.00      1   \n",
      "325                           Young, Miss. Marie Grice  female  36.00      0   \n",
      "332                          Graham, Mr. George Edward    male  38.00      0   \n",
      "334  Frauenthal, Mrs. Henry William (Clara Heinshei...  female    NaN      1   \n",
      "337                    Burns, Miss. Elizabeth Margaret  female  41.00      0   \n",
      "341                     Fortune, Miss. Alice Elizabeth  female  24.00      3   \n",
      "373                                Ringhini, Mr. Sante    male  22.00      0   \n",
      "377                          Widener, Mr. Harry Elkins    male  27.00      0   \n",
      "380                              Bidois, Miss. Rosalie  female  42.00      0   \n",
      "390                         Carter, Mr. William Ernest    male  36.00      1   \n",
      "393                             Newell, Miss. Marjorie  female  23.00      1   \n",
      "435                          Carter, Miss. Lucile Polk  female  14.00      1   \n",
      "438                                  Fortune, Mr. Mark    male  64.00      1   \n",
      "498    Allison, Mrs. Hudson J C (Bessie Waldo Daniels)  female  25.00      1   \n",
      "505         Penasco y Castellana, Mr. Victor de Satode    male  18.00      1   \n",
      "527                                 Farthing, Mr. John    male    NaN      0   \n",
      "537                                LeRoy, Miss. Bertha  female  30.00      0   \n",
      "544                         Douglas, Mr. Walter Donald    male  50.00      1   \n",
      "550                        Thayer, Mr. John Borland Jr    male  17.00      0   \n",
      "557                                Robbins, Mr. Victor    male    NaN      0   \n",
      "581  Thayer, Mrs. John Borland (Marian Longstreth M...  female  39.00      1   \n",
      "609                          Shutes, Miss. Elizabeth W  female  40.00      0   \n",
      "659                         Newell, Mr. Arthur Webster    male  58.00      0   \n",
      "660                      Frauenthal, Dr. Henry William    male  50.00      2   \n",
      "679                 Cardeza, Mr. Thomas Drake Martinez    male  36.00      0   \n",
      "689                  Madill, Miss. Georgette Alexandra  female  15.00      0   \n",
      "698                           Thayer, Mr. John Borland    male  49.00      1   \n",
      "700  Astor, Mrs. John Jacob (Madeleine Talmadge Force)  female  18.00      1   \n",
      "708                               Cleaver, Miss. Alice  female  22.00      0   \n",
      "716                      Endres, Miss. Caroline Louise  female  38.00      0   \n",
      "730                      Allen, Miss. Elisabeth Walton  female  29.00      0   \n",
      "737                             Lesurer, Mr. Gustave J    male  35.00      0   \n",
      "742              Ryerson, Miss. Susan Parker \"Suzette\"  female  21.00      2   \n",
      "763          Carter, Mrs. William Ernest (Lucile Polk)  female  36.00      1   \n",
      "779  Robert, Mrs. Edward Scott (Elisabeth Walton Mc...  female  43.00      0   \n",
      "802                Carter, Master. William Thornton II    male  11.00      1   \n",
      "856         Wick, Mrs. George Dennick (Mary Hitchcock)  female  45.00      1   \n",
      "\n",
      "     Parch    Ticket      Fare            Cabin Embarked  \n",
      "27       2     19950  263.0000      C23 C25 C27        S  \n",
      "31       0  PC 17569  146.5208              B78        C  \n",
      "88       2     19950  263.0000      C23 C25 C27        S  \n",
      "118      1  PC 17558  247.5208          B58 B60        C  \n",
      "195      0  PC 17569  146.5208              B80        C  \n",
      "215      0     35273  113.2750              D36        C  \n",
      "258      0  PC 17755  512.3292              NaN        C  \n",
      "268      1  PC 17582  153.4625             C125        S  \n",
      "269      0  PC 17760  135.6333              C99        S  \n",
      "297      2    113781  151.5500          C22 C26        S  \n",
      "299      1  PC 17558  247.5208          B58 B60        C  \n",
      "305      2    113781  151.5500          C22 C26        S  \n",
      "306      0     17421  110.8833              NaN        C  \n",
      "307      0  PC 17758  108.9000              C65        C  \n",
      "311      2  PC 17608  262.3750  B57 B59 B63 B66        C  \n",
      "318      2     36928  164.8667               C7        S  \n",
      "319      1     16966  134.5000              E34        C  \n",
      "325      0  PC 17760  135.6333              C32        C  \n",
      "332      1  PC 17582  153.4625              C91        S  \n",
      "334      0  PC 17611  133.6500              NaN        S  \n",
      "337      0     16966  134.5000              E40        C  \n",
      "341      2     19950  263.0000      C23 C25 C27        S  \n",
      "373      0  PC 17760  135.6333              NaN        C  \n",
      "377      2    113503  211.5000              C82        C  \n",
      "380      0  PC 17757  227.5250              NaN        C  \n",
      "390      2    113760  120.0000          B96 B98        S  \n",
      "393      0     35273  113.2750              D36        C  \n",
      "435      2    113760  120.0000          B96 B98        S  \n",
      "438      4     19950  263.0000      C23 C25 C27        S  \n",
      "498      2    113781  151.5500          C22 C26        S  \n",
      "505      0  PC 17758  108.9000              C65        C  \n",
      "527      0  PC 17483  221.7792              C95        S  \n",
      "537      0  PC 17761  106.4250              NaN        C  \n",
      "544      0  PC 17761  106.4250              C86        C  \n",
      "550      2     17421  110.8833              C70        C  \n",
      "557      0  PC 17757  227.5250              NaN        C  \n",
      "581      1     17421  110.8833              C68        C  \n",
      "609      0  PC 17582  153.4625             C125        S  \n",
      "659      2     35273  113.2750              D48        C  \n",
      "660      0  PC 17611  133.6500              NaN        S  \n",
      "679      1  PC 17755  512.3292      B51 B53 B55        C  \n",
      "689      1     24160  211.3375               B5        S  \n",
      "698      1     17421  110.8833              C68        C  \n",
      "700      0  PC 17757  227.5250          C62 C64        C  \n",
      "708      0    113781  151.5500              NaN        S  \n",
      "716      0  PC 17757  227.5250              C45        C  \n",
      "730      0     24160  211.3375               B5        S  \n",
      "737      0  PC 17755  512.3292             B101        C  \n",
      "742      2  PC 17608  262.3750  B57 B59 B63 B66        C  \n",
      "763      2    113760  120.0000          B96 B98        S  \n",
      "779      1     24160  211.3375               B3        S  \n",
      "802      2    113760  120.0000          B96 B98        S  \n",
      "856      1     36928  164.8667              NaN        S   Fare\n"
     ]
    }
   ],
   "source": [
    "print(data[data['Fare']>=100],)"
   ]
  },
  {
   "cell_type": "code",
   "execution_count": 63,
   "metadata": {},
   "outputs": [],
   "source": [
    "data.loc[data['Fare']>=100,'Fare']=100"
   ]
  },
  {
   "cell_type": "code",
   "execution_count": 64,
   "metadata": {},
   "outputs": [
    {
     "data": {
      "text/plain": [
       "Text(0, 0.5, 'No of passenger')"
      ]
     },
     "execution_count": 64,
     "metadata": {},
     "output_type": "execute_result"
    },
    {
     "data": {
      "image/png": "[encoded data removed]",
      "text/plain": [
       "<Figure size 432x288 with 1 Axes>"
      ]
     },
     "metadata": {
      "needs_background": "light"
     },
     "output_type": "display_data"
    }
   ],
   "source": [
    "figure=data.Fare.hist(bins=50)\n",
    "figure.set_title('Fare')\n",
    "figure.set_xlabel('Fare')\n",
    "figure.set_ylabel('No of passenger')"
   ]
  },
  {
   "cell_type": "code",
   "execution_count": 66,
   "metadata": {},
   "outputs": [],
   "source": [
    "from sklearn.model_selection import train_test_split\n",
    "X_train,X_test,y_train,y_test=train_test_split(data[['Age','Fare']].fillna(0),data['Survived'],test_size=0.3)"
   ]
  },
  {
   "cell_type": "code",
   "execution_count": 69,
   "metadata": {},
   "outputs": [
    {
     "data": {
      "text/html": [
       "<div>\n",
       "<style scoped>\n",
       "    .dataframe tbody tr th:only-of-type {\n",
       "        vertical-align: middle;\n",
       "    }\n",
       "\n",
       "    .dataframe tbody tr th {\n",
       "        vertical-align: top;\n",
       "    }\n",
       "\n",
       "    .dataframe thead th {\n",
       "        text-align: right;\n",
       "    }\n",
       "</style>\n",
       "<table border=\"1\" class=\"dataframe\">\n",
       "  <thead>\n",
       "    <tr style=\"text-align: right;\">\n",
       "      <th></th>\n",
       "      <th>Age</th>\n",
       "      <th>Fare</th>\n",
       "    </tr>\n",
       "  </thead>\n",
       "  <tbody>\n",
       "    <tr>\n",
       "      <th>695</th>\n",
       "      <td>52.0</td>\n",
       "      <td>13.5000</td>\n",
       "    </tr>\n",
       "    <tr>\n",
       "      <th>555</th>\n",
       "      <td>62.0</td>\n",
       "      <td>26.5500</td>\n",
       "    </tr>\n",
       "    <tr>\n",
       "      <th>18</th>\n",
       "      <td>31.0</td>\n",
       "      <td>18.0000</td>\n",
       "    </tr>\n",
       "    <tr>\n",
       "      <th>880</th>\n",
       "      <td>25.0</td>\n",
       "      <td>26.0000</td>\n",
       "    </tr>\n",
       "    <tr>\n",
       "      <th>131</th>\n",
       "      <td>20.0</td>\n",
       "      <td>7.0500</td>\n",
       "    </tr>\n",
       "    <tr>\n",
       "      <th>...</th>\n",
       "      <td>...</td>\n",
       "      <td>...</td>\n",
       "    </tr>\n",
       "    <tr>\n",
       "      <th>256</th>\n",
       "      <td>0.0</td>\n",
       "      <td>79.2000</td>\n",
       "    </tr>\n",
       "    <tr>\n",
       "      <th>687</th>\n",
       "      <td>19.0</td>\n",
       "      <td>10.1708</td>\n",
       "    </tr>\n",
       "    <tr>\n",
       "      <th>116</th>\n",
       "      <td>70.5</td>\n",
       "      <td>7.7500</td>\n",
       "    </tr>\n",
       "    <tr>\n",
       "      <th>764</th>\n",
       "      <td>16.0</td>\n",
       "      <td>7.7750</td>\n",
       "    </tr>\n",
       "    <tr>\n",
       "      <th>199</th>\n",
       "      <td>24.0</td>\n",
       "      <td>13.0000</td>\n",
       "    </tr>\n",
       "  </tbody>\n",
       "</table>\n",
       "<p>623 rows × 2 columns</p>\n",
       "</div>"
      ],
      "text/plain": [
       "      Age     Fare\n",
       "695  52.0  13.5000\n",
       "555  62.0  26.5500\n",
       "18   31.0  18.0000\n",
       "880  25.0  26.0000\n",
       "131  20.0   7.0500\n",
       "..    ...      ...\n",
       "256   0.0  79.2000\n",
       "687  19.0  10.1708\n",
       "116  70.5   7.7500\n",
       "764  16.0   7.7750\n",
       "199  24.0  13.0000\n",
       "\n",
       "[623 rows x 2 columns]"
      ]
     },
     "execution_count": 69,
     "metadata": {},
     "output_type": "execute_result"
    }
   ],
   "source": [
    "X_train"
   ]
  },
  {
   "cell_type": "code",
   "execution_count": 70,
   "metadata": {},
   "outputs": [
    {
     "data": {
      "text/plain": [
       "695    0\n",
       "555    0\n",
       "18     0\n",
       "880    1\n",
       "131    0\n",
       "      ..\n",
       "256    1\n",
       "687    0\n",
       "116    0\n",
       "764    0\n",
       "199    0\n",
       "Name: Survived, Length: 623, dtype: int64"
      ]
     },
     "execution_count": 70,
     "metadata": {},
     "output_type": "execute_result"
    }
   ],
   "source": [
    "y_train"
   ]
  },
  {
   "cell_type": "code",
   "execution_count": 71,
   "metadata": {},
   "outputs": [
    {
     "data": {
      "text/html": [
       "<div>\n",
       "<style scoped>\n",
       "    .dataframe tbody tr th:only-of-type {\n",
       "        vertical-align: middle;\n",
       "    }\n",
       "\n",
       "    .dataframe tbody tr th {\n",
       "        vertical-align: top;\n",
       "    }\n",
       "\n",
       "    .dataframe thead th {\n",
       "        text-align: right;\n",
       "    }\n",
       "</style>\n",
       "<table border=\"1\" class=\"dataframe\">\n",
       "  <thead>\n",
       "    <tr style=\"text-align: right;\">\n",
       "      <th></th>\n",
       "      <th>Age</th>\n",
       "      <th>Fare</th>\n",
       "    </tr>\n",
       "  </thead>\n",
       "  <tbody>\n",
       "    <tr>\n",
       "      <th>143</th>\n",
       "      <td>19.0</td>\n",
       "      <td>6.750</td>\n",
       "    </tr>\n",
       "    <tr>\n",
       "      <th>186</th>\n",
       "      <td>0.0</td>\n",
       "      <td>15.500</td>\n",
       "    </tr>\n",
       "    <tr>\n",
       "      <th>267</th>\n",
       "      <td>25.0</td>\n",
       "      <td>7.775</td>\n",
       "    </tr>\n",
       "    <tr>\n",
       "      <th>791</th>\n",
       "      <td>16.0</td>\n",
       "      <td>26.000</td>\n",
       "    </tr>\n",
       "    <tr>\n",
       "      <th>848</th>\n",
       "      <td>28.0</td>\n",
       "      <td>33.000</td>\n",
       "    </tr>\n",
       "    <tr>\n",
       "      <th>...</th>\n",
       "      <td>...</td>\n",
       "      <td>...</td>\n",
       "    </tr>\n",
       "    <tr>\n",
       "      <th>383</th>\n",
       "      <td>35.0</td>\n",
       "      <td>52.000</td>\n",
       "    </tr>\n",
       "    <tr>\n",
       "      <th>666</th>\n",
       "      <td>25.0</td>\n",
       "      <td>13.000</td>\n",
       "    </tr>\n",
       "    <tr>\n",
       "      <th>517</th>\n",
       "      <td>0.0</td>\n",
       "      <td>24.150</td>\n",
       "    </tr>\n",
       "    <tr>\n",
       "      <th>435</th>\n",
       "      <td>14.0</td>\n",
       "      <td>100.000</td>\n",
       "    </tr>\n",
       "    <tr>\n",
       "      <th>16</th>\n",
       "      <td>2.0</td>\n",
       "      <td>29.125</td>\n",
       "    </tr>\n",
       "  </tbody>\n",
       "</table>\n",
       "<p>268 rows × 2 columns</p>\n",
       "</div>"
      ],
      "text/plain": [
       "      Age     Fare\n",
       "143  19.0    6.750\n",
       "186   0.0   15.500\n",
       "267  25.0    7.775\n",
       "791  16.0   26.000\n",
       "848  28.0   33.000\n",
       "..    ...      ...\n",
       "383  35.0   52.000\n",
       "666  25.0   13.000\n",
       "517   0.0   24.150\n",
       "435  14.0  100.000\n",
       "16    2.0   29.125\n",
       "\n",
       "[268 rows x 2 columns]"
      ]
     },
     "execution_count": 71,
     "metadata": {},
     "output_type": "execute_result"
    }
   ],
   "source": [
    "X_test"
   ]
  },
  {
   "cell_type": "code",
   "execution_count": 72,
   "metadata": {},
   "outputs": [
    {
     "data": {
      "text/plain": [
       "143    0\n",
       "186    1\n",
       "267    1\n",
       "791    0\n",
       "848    0\n",
       "      ..\n",
       "383    1\n",
       "666    0\n",
       "517    0\n",
       "435    1\n",
       "16     0\n",
       "Name: Survived, Length: 268, dtype: int64"
      ]
     },
     "execution_count": 72,
     "metadata": {},
     "output_type": "execute_result"
    }
   ],
   "source": [
    "y_test"
   ]
  },
  {
   "cell_type": "code",
   "execution_count": 77,
   "metadata": {},
   "outputs": [
    {
     "name": "stdout",
     "output_type": "stream",
     "text": [
      "[0 0 0 0 0 0 0 0 0 0 0 0 0 0 1 0 0 0 0 1 0 0 0 0 0 0 0 0 0 1 0 1 0 0 0 0 0\n",
      " 0 0 0 0 0 0 0 0 0 0 0 0 0 0 1 0 0 1 0 0 0 0 0 1 0 0 1 0 1 0 1 0 0 0 0 0 0\n",
      " 0 0 0 0 0 0 0 0 0 1 1 0 1 1 1 0 0 0 0 0 0 1 0 1 0 0 1 0 1 0 0 0 0 0 0 0 0\n",
      " 0 0 1 0 0 0 0 0 0 1 0 0 0 0 0 0 0 0 0 0 0 0 0 0 0 0 1 0 0 0 0 1 0 0 0 0 1\n",
      " 1 0 0 0 1 0 0 0 0 0 0 0 0 0 0 1 0 1 0 1 0 0 0 0 1 0 1 0 1 0 1 0 0 0 1 1 0\n",
      " 0 0 0 0 0 0 0 0 0 0 0 1 0 0 0 0 0 0 0 0 0 0 0 0 1 1 0 1 0 0 0 0 0 0 0 0 0\n",
      " 0 1 0 0 0 0 0 1 0 1 0 0 1 1 1 0 0 0 0 0 0 0 0 0 0 0 1 1 0 0 0 0 0 1 0 0 0\n",
      " 0 0 1 0 1 0 0 1 0]\n",
      "y_pred1 [[0.71817472 0.28182528]\n",
      " [0.66088884 0.33911116]\n",
      " [0.71708077 0.28291923]\n",
      " [0.61495026 0.38504974]\n",
      " [0.5841079  0.4158921 ]\n",
      " [0.71916021 0.28083979]\n",
      " [0.69939532 0.30060468]\n",
      " [0.72091467 0.27908533]\n",
      " [0.71147415 0.28852585]\n",
      " [0.64007749 0.35992251]\n",
      " [0.68985685 0.31014315]\n",
      " [0.62527948 0.37472052]\n",
      " [0.62006106 0.37993894]\n",
      " [0.69610009 0.30389991]\n",
      " [0.30974476 0.69025524]\n",
      " [0.54872676 0.45127324]\n",
      " [0.56140618 0.43859382]\n",
      " [0.70531945 0.29468055]\n",
      " [0.72288543 0.27711457]\n",
      " [0.33106074 0.66893926]\n",
      " [0.71521099 0.28478901]\n",
      " [0.71095272 0.28904728]\n",
      " [0.71193894 0.28806106]\n",
      " [0.70417917 0.29582083]\n",
      " [0.71347675 0.28652325]\n",
      " [0.70089306 0.29910694]\n",
      " [0.67594964 0.32405036]\n",
      " [0.694051   0.305949  ]\n",
      " [0.59976514 0.40023486]\n",
      " [0.22758718 0.77241282]\n",
      " [0.60983025 0.39016975]\n",
      " [0.36849337 0.63150663]\n",
      " [0.70188917 0.29811083]\n",
      " [0.69588838 0.30411162]\n",
      " [0.6685794  0.3314206 ]\n",
      " [0.7349628  0.2650372 ]\n",
      " [0.64298676 0.35701324]\n",
      " [0.69939532 0.30060468]\n",
      " [0.64219508 0.35780492]\n",
      " [0.70057832 0.29942168]\n",
      " [0.65768384 0.34231616]\n",
      " [0.72160882 0.27839118]\n",
      " [0.61499621 0.38500379]\n",
      " [0.71342659 0.28657341]\n",
      " [0.70348294 0.29651706]\n",
      " [0.66179652 0.33820348]\n",
      " [0.70089306 0.29910694]\n",
      " [0.68581445 0.31418555]\n",
      " [0.71964025 0.28035975]\n",
      " [0.55071105 0.44928895]\n",
      " [0.70483607 0.29516393]\n",
      " [0.23889779 0.76110221]\n",
      " [0.5757287  0.4242713 ]\n",
      " [0.60247886 0.39752114]\n",
      " [0.34184913 0.65815087]\n",
      " [0.7248863  0.2751137 ]\n",
      " [0.62616593 0.37383407]\n",
      " [0.73123267 0.26876733]\n",
      " [0.72097302 0.27902698]\n",
      " [0.71960672 0.28039328]\n",
      " [0.22870104 0.77129896]\n",
      " [0.71122656 0.28877344]\n",
      " [0.73253988 0.26746012]\n",
      " [0.3085559  0.6914441 ]\n",
      " [0.70021413 0.29978587]\n",
      " [0.21292584 0.78707416]\n",
      " [0.62602022 0.37397978]\n",
      " [0.34398703 0.65601297]\n",
      " [0.6736552  0.3263448 ]\n",
      " [0.7244078  0.2755922 ]\n",
      " [0.70206264 0.29793736]\n",
      " [0.57072831 0.42927169]\n",
      " [0.72603439 0.27396561]\n",
      " [0.69939532 0.30060468]\n",
      " [0.61844688 0.38155312]\n",
      " [0.69499717 0.30500283]\n",
      " [0.56683758 0.43316242]\n",
      " [0.58272629 0.41727371]\n",
      " [0.70757193 0.29242807]\n",
      " [0.59771365 0.40228635]\n",
      " [0.64842472 0.35157528]\n",
      " [0.52852232 0.47147768]\n",
      " [0.72703744 0.27296256]\n",
      " [0.25110716 0.74889284]\n",
      " [0.45757307 0.54242693]\n",
      " [0.61719444 0.38280556]\n",
      " [0.45934882 0.54065118]\n",
      " [0.24236522 0.75763478]\n",
      " [0.21719688 0.78280312]\n",
      " [0.71585474 0.28414526]\n",
      " [0.70049807 0.29950193]\n",
      " [0.5996508  0.4003492 ]\n",
      " [0.60441398 0.39558602]\n",
      " [0.69725067 0.30274933]\n",
      " [0.64578755 0.35421245]\n",
      " [0.2894402  0.7105598 ]\n",
      " [0.71831894 0.28168106]\n",
      " [0.4017738  0.5982262 ]\n",
      " [0.73218123 0.26781877]\n",
      " [0.71187569 0.28812431]\n",
      " [0.44923871 0.55076129]\n",
      " [0.70348294 0.29651706]\n",
      " [0.35022247 0.64977753]\n",
      " [0.70551782 0.29448218]\n",
      " [0.64307997 0.35692003]\n",
      " [0.71764004 0.28235996]\n",
      " [0.63358244 0.36641756]\n",
      " [0.71505114 0.28494886]\n",
      " [0.71600603 0.28399397]\n",
      " [0.70024856 0.29975144]\n",
      " [0.67655531 0.32344469]\n",
      " [0.67897287 0.32102713]\n",
      " [0.68026855 0.31973145]\n",
      " [0.28561716 0.71438284]\n",
      " [0.73522937 0.26477063]\n",
      " [0.63669285 0.36330715]\n",
      " [0.62821949 0.37178051]\n",
      " [0.70757193 0.29242807]\n",
      " [0.73245377 0.26754623]\n",
      " [0.68610483 0.31389517]\n",
      " [0.44955213 0.55044787]\n",
      " [0.71635655 0.28364345]\n",
      " [0.72214257 0.27785743]\n",
      " [0.5902597  0.4097403 ]\n",
      " [0.57588387 0.42411613]\n",
      " [0.72400436 0.27599564]\n",
      " [0.71080588 0.28919412]\n",
      " [0.7187485  0.2812515 ]\n",
      " [0.72103427 0.27896573]\n",
      " [0.67767913 0.32232087]\n",
      " [0.72290544 0.27709456]\n",
      " [0.68648764 0.31351236]\n",
      " [0.56959756 0.43040244]\n",
      " [0.69524407 0.30475593]\n",
      " [0.71768829 0.28231171]\n",
      " [0.72112265 0.27887735]\n",
      " [0.6259087  0.3740913 ]\n",
      " [0.34613127 0.65386873]\n",
      " [0.70437108 0.29562892]\n",
      " [0.70016569 0.29983431]\n",
      " [0.62219872 0.37780128]\n",
      " [0.71515191 0.28484809]\n",
      " [0.45839985 0.54160015]\n",
      " [0.64143492 0.35856508]\n",
      " [0.61719444 0.38280556]\n",
      " [0.72844855 0.27155145]\n",
      " [0.60593282 0.39406718]\n",
      " [0.48698482 0.51301518]\n",
      " [0.33319245 0.66680755]\n",
      " [0.72365965 0.27634035]\n",
      " [0.61881065 0.38118935]\n",
      " [0.71927784 0.28072216]\n",
      " [0.22981874 0.77018126]\n",
      " [0.70101768 0.29898232]\n",
      " [0.70348294 0.29651706]\n",
      " [0.72150752 0.27849248]\n",
      " [0.71139262 0.28860738]\n",
      " [0.68318852 0.31681148]\n",
      " [0.71506953 0.28493047]\n",
      " [0.62472776 0.37527224]\n",
      " [0.66038181 0.33961819]\n",
      " [0.71768829 0.28231171]\n",
      " [0.63900744 0.36099256]\n",
      " [0.21935549 0.78064451]\n",
      " [0.71895843 0.28104157]\n",
      " [0.4507974  0.5492026 ]\n",
      " [0.56118299 0.43881701]\n",
      " [0.21989755 0.78010245]\n",
      " [0.73357784 0.26642216]\n",
      " [0.61338397 0.38661603]\n",
      " [0.71321515 0.28678485]\n",
      " [0.66088884 0.33911116]\n",
      " [0.22592357 0.77407643]\n",
      " [0.62092363 0.37907637]\n",
      " [0.20715373 0.79284627]\n",
      " [0.63498932 0.36501068]\n",
      " [0.21612335 0.78387665]\n",
      " [0.70505612 0.29494388]\n",
      " [0.449988   0.550012  ]\n",
      " [0.71713961 0.28286039]\n",
      " [0.71507931 0.28492069]\n",
      " [0.69735005 0.30264995]\n",
      " [0.36839761 0.63160239]\n",
      " [0.23432775 0.76567225]\n",
      " [0.6479549  0.3520451 ]\n",
      " [0.70243091 0.29756909]\n",
      " [0.70937595 0.29062405]\n",
      " [0.69908276 0.30091724]\n",
      " [0.70369789 0.29630211]\n",
      " [0.67456258 0.32543742]\n",
      " [0.70016569 0.29983431]\n",
      " [0.62825611 0.37174389]\n",
      " [0.72083331 0.27916669]\n",
      " [0.64868227 0.35131773]\n",
      " [0.7190603  0.2809397 ]\n",
      " [0.72985271 0.27014729]\n",
      " [0.47256318 0.52743682]\n",
      " [0.67917368 0.32082632]\n",
      " [0.6603234  0.3396766 ]\n",
      " [0.66643993 0.33356007]\n",
      " [0.71862103 0.28137897]\n",
      " [0.66088884 0.33911116]\n",
      " [0.63645415 0.36354585]\n",
      " [0.70089306 0.29910694]\n",
      " [0.70746113 0.29253887]\n",
      " [0.72891869 0.27108131]\n",
      " [0.73804859 0.26195141]\n",
      " [0.66030927 0.33969073]\n",
      " [0.68138432 0.31861568]\n",
      " [0.25541475 0.74458525]\n",
      " [0.30184948 0.69815052]\n",
      " [0.69725067 0.30274933]\n",
      " [0.22592357 0.77407643]\n",
      " [0.73804859 0.26195141]\n",
      " [0.57946791 0.42053209]\n",
      " [0.62472776 0.37527224]\n",
      " [0.71826219 0.28173781]\n",
      " [0.66088884 0.33911116]\n",
      " [0.62463859 0.37536141]\n",
      " [0.67142256 0.32857744]\n",
      " [0.58804841 0.41195159]\n",
      " [0.59976514 0.40023486]\n",
      " [0.62241134 0.37758866]\n",
      " [0.35022247 0.64977753]\n",
      " [0.71996609 0.28003391]\n",
      " [0.72887275 0.27112725]\n",
      " [0.70277387 0.29722613]\n",
      " [0.72876836 0.27123164]\n",
      " [0.70441031 0.29558969]\n",
      " [0.27477437 0.72522563]\n",
      " [0.71793139 0.28206861]\n",
      " [0.31930075 0.68069925]\n",
      " [0.71382277 0.28617723]\n",
      " [0.62463859 0.37536141]\n",
      " [0.20715373 0.79284627]\n",
      " [0.34196253 0.65803747]\n",
      " [0.48208532 0.51791468]\n",
      " [0.57418289 0.42581711]\n",
      " [0.71972665 0.28027335]\n",
      " [0.70089306 0.29910694]\n",
      " [0.65565672 0.34434328]\n",
      " [0.65021359 0.34978641]\n",
      " [0.72653462 0.27346538]\n",
      " [0.69607273 0.30392727]\n",
      " [0.53149744 0.46850256]\n",
      " [0.69591376 0.30408624]\n",
      " [0.73005399 0.26994601]\n",
      " [0.6882924  0.3117076 ]\n",
      " [0.3459307  0.6540693 ]\n",
      " [0.25292662 0.74707338]\n",
      " [0.71063998 0.28936002]\n",
      " [0.5950867  0.4049133 ]\n",
      " [0.71262722 0.28737278]\n",
      " [0.62869414 0.37130586]\n",
      " [0.63316869 0.36683131]\n",
      " [0.4485765  0.5514235 ]\n",
      " [0.62981488 0.37018512]\n",
      " [0.61657006 0.38342994]\n",
      " [0.69053312 0.30946688]\n",
      " [0.71797136 0.28202864]\n",
      " [0.69457354 0.30542646]\n",
      " [0.3826464  0.6173536 ]\n",
      " [0.63669285 0.36330715]\n",
      " [0.47750898 0.52249102]\n",
      " [0.69120857 0.30879143]\n",
      " [0.61338397 0.38661603]\n",
      " [0.21452026 0.78547974]\n",
      " [0.58651525 0.41348475]]\n"
     ]
    }
   ],
   "source": [
    "### Logistic Regression\n",
    "from sklearn.linear_model import LogisticRegression\n",
    "classifier=LogisticRegression()\n",
    "classifier.fit(X_train,y_train)\n",
    "y_pred=classifier.predict(X_test)\n",
    "y_pred1=classifier.predict_proba(X_test)\n",
    "print(y_pred)\n",
    "print(\"y_pred1\",y_pred1)\n"
   ]
  },
  {
   "cell_type": "code",
   "execution_count": 78,
   "metadata": {},
   "outputs": [
    {
     "name": "stdout",
     "output_type": "stream",
     "text": [
      "Accuracy_score: 0.7014925373134329\n",
      "roc_auc_score: 0.7271002549356732\n"
     ]
    }
   ],
   "source": [
    "from sklearn.metrics import accuracy_score,roc_auc_score\n",
    "print(\"Accuracy_score: {}\".format(accuracy_score(y_test,y_pred)))\n",
    "print(\"roc_auc_score: {}\".format(roc_auc_score(y_test,y_pred1[:,1])))"
   ]
  },
  {
   "cell_type": "code",
   "execution_count": null,
   "metadata": {},
   "outputs": [],
   "source": [
    "s"
   ]
  }
 ],
 "metadata": {
  "kernelspec": {
   "display_name": "Python 3 (ipykernel)",
   "language": "python",
   "name": "python3"
  },
  "language_info": {
   "codemirror_mode": {
    "name": "ipython",
    "version": 3
   },
   "file_extension": ".py",
   "mimetype": "text/x-python",
   "name": "python",
   "nbconvert_exporter": "python",
   "pygments_lexer": "ipython3",
   "version": "3.9.12"
  }
 },
 "nbformat": 4,
 "nbformat_minor": 4
}
